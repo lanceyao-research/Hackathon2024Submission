{
  "cells": [
    {
      "cell_type": "code",
      "execution_count": 1,
      "metadata": {
        "colab": {
          "base_uri": "https://localhost:8080/"
        },
        "id": "1YM6e7bx1h-5",
        "outputId": "b7645f32-f526-4ed5-f682-a40a26437769"
      },
      "outputs": [
        {
          "output_type": "stream",
          "name": "stdout",
          "text": [
            "Mounted at /content/drive\n"
          ]
        },
        {
          "output_type": "execute_result",
          "data": {
            "text/plain": [
              "['DTMicroscope',\n",
              " 'test_data',\n",
              " 'model.keras',\n",
              " 'Contour_analysis.py',\n",
              " '__pycache__',\n",
              " 'DTM_test.ipynb',\n",
              " 'segmentation_function.py',\n",
              " 'iterativeclustering.py']"
            ]
          },
          "metadata": {},
          "execution_count": 1
        }
      ],
      "source": [
        "#cd to the script folder\n",
        "from google.colab import drive\n",
        "import os\n",
        "import sys\n",
        "import gdown\n",
        "\n",
        "drive.mount('/content/drive', force_remount=True)\n",
        "os.chdir('/content/drive/My Drive/Hackathon/DTM') #Need to change the address to where your script is\n",
        "os.listdir('.')"
      ]
    },
    {
      "cell_type": "code",
      "execution_count": null,
      "metadata": {
        "colab": {
          "base_uri": "https://localhost:8080/",
          "height": 53
        },
        "id": "1kADgsEp45WH",
        "outputId": "f2a70e8a-697a-4abf-885e-e9e69430ac3a"
      },
      "outputs": [
        {
          "output_type": "stream",
          "name": "stdout",
          "text": [
            "fatal: destination path 'DTMicroscope' already exists and is not an empty directory.\n"
          ]
        },
        {
          "output_type": "execute_result",
          "data": {
            "text/plain": [
              "'model.keras'"
            ],
            "application/vnd.google.colaboratory.intrinsic+json": {
              "type": "string"
            }
          },
          "metadata": {},
          "execution_count": 2
        }
      ],
      "source": [
        "'''download necessary data and packages'''\n",
        "!git clone https://github.com/pycroscopy/DTMicroscope.git                                                                  #DTM\n",
        "gdown.download_folder('https://drive.google.com/drive/folders/17F3iXxnb5I5tktyEW_et5iK9yJGhU_Lj?usp=sharing', quiet=True)  #dataset\n",
        "gdown.download('https://drive.google.com/uc?id=1UQnigKw8o7psh3oIhRATAy4FNXTkbldL', quiet=True)                             #model#"
      ]
    },
    {
      "cell_type": "code",
      "source": [
        "'''Instal packages'''\n",
        "os.chdir('/content/drive/My Drive/Hackathon/DTM/DTMicroscope')\n",
        "!pip install .\n",
        "os.chdir('/content/drive/My Drive/Hackathon/DTM')\n",
        "sys.path.insert(0, '/content/drive/My Drive/Hackathon/DTM/DTMicroscope')\n",
        "\n",
        "##The installation above sounds stupid and complicated. Is there a better way to install it?\n",
        "\n",
        "!pip install SciFiReaders"
      ],
      "metadata": {
        "colab": {
          "base_uri": "https://localhost:8080/"
        },
        "id": "CyPbHC3TBDcV",
        "outputId": "b9d681cb-e90a-4aa3-aaaf-74b460fdd549"
      },
      "execution_count": 2,
      "outputs": [
        {
          "output_type": "stream",
          "name": "stdout",
          "text": [
            "Processing /content/drive/My Drive/Hackathon/DTM/DTMicroscope\n",
            "  Preparing metadata (setup.py) ... \u001b[?25l\u001b[?25hdone\n",
            "Building wheels for collected packages: DTMicroscope\n",
            "  Building wheel for DTMicroscope (setup.py) ... \u001b[?25l\u001b[?25hdone\n",
            "  Created wheel for DTMicroscope: filename=DTMicroscope-0.0.1-py3-none-any.whl size=27886 sha256=00aaac7ea8226ea89b9c03006d127fa810c0050d1b085ed3eb549aacbf7b27b0\n",
            "  Stored in directory: /tmp/pip-ephem-wheel-cache-m63_sw0m/wheels/c2/90/14/05d0cd62fbb15668bd027cacf75a5db8d070508ad84280c10e\n",
            "Successfully built DTMicroscope\n",
            "Installing collected packages: DTMicroscope\n",
            "  Attempting uninstall: DTMicroscope\n",
            "    Found existing installation: DTMicroscope 0.0.1\n",
            "    Uninstalling DTMicroscope-0.0.1:\n",
            "      Successfully uninstalled DTMicroscope-0.0.1\n",
            "Successfully installed DTMicroscope-0.0.1\n",
            "Requirement already satisfied: SciFiReaders in /usr/local/lib/python3.10/dist-packages (0.11.6)\n",
            "Requirement already satisfied: setuptools in /usr/local/lib/python3.10/dist-packages (from SciFiReaders) (75.1.0)\n",
            "Requirement already satisfied: numpy in /usr/local/lib/python3.10/dist-packages (from SciFiReaders) (1.26.4)\n",
            "Requirement already satisfied: toolz in /usr/local/lib/python3.10/dist-packages (from SciFiReaders) (0.12.1)\n",
            "Requirement already satisfied: cytoolz in /usr/local/lib/python3.10/dist-packages (from SciFiReaders) (1.0.1)\n",
            "Requirement already satisfied: dask>=2.20.0 in /usr/local/lib/python3.10/dist-packages (from SciFiReaders) (2024.12.0)\n",
            "Requirement already satisfied: sidpy>=0.11.2 in /usr/local/lib/python3.10/dist-packages (from SciFiReaders) (0.12.6)\n",
            "Requirement already satisfied: ipython>=7.1.0 in /usr/local/lib/python3.10/dist-packages (from SciFiReaders) (7.34.0)\n",
            "Requirement already satisfied: pyUSID in /usr/local/lib/python3.10/dist-packages (from SciFiReaders) (0.0.12)\n",
            "Requirement already satisfied: gdown in /usr/local/lib/python3.10/dist-packages (from SciFiReaders) (5.2.0)\n",
            "Requirement already satisfied: mrcfile in /usr/local/lib/python3.10/dist-packages (from SciFiReaders) (1.5.3)\n",
            "Requirement already satisfied: numba>=0.59.0rc1 in /usr/local/lib/python3.10/dist-packages (from SciFiReaders) (0.60.0)\n",
            "Requirement already satisfied: click>=8.1 in /usr/local/lib/python3.10/dist-packages (from dask>=2.20.0->SciFiReaders) (8.1.7)\n",
            "Requirement already satisfied: cloudpickle>=3.0.0 in /usr/local/lib/python3.10/dist-packages (from dask>=2.20.0->SciFiReaders) (3.1.0)\n",
            "Requirement already satisfied: fsspec>=2021.09.0 in /usr/local/lib/python3.10/dist-packages (from dask>=2.20.0->SciFiReaders) (2024.10.0)\n",
            "Requirement already satisfied: packaging>=20.0 in /usr/local/lib/python3.10/dist-packages (from dask>=2.20.0->SciFiReaders) (24.2)\n",
            "Requirement already satisfied: partd>=1.4.0 in /usr/local/lib/python3.10/dist-packages (from dask>=2.20.0->SciFiReaders) (1.4.2)\n",
            "Requirement already satisfied: pyyaml>=5.3.1 in /usr/local/lib/python3.10/dist-packages (from dask>=2.20.0->SciFiReaders) (6.0.2)\n",
            "Requirement already satisfied: importlib_metadata>=4.13.0 in /usr/local/lib/python3.10/dist-packages (from dask>=2.20.0->SciFiReaders) (8.5.0)\n",
            "Requirement already satisfied: jedi>=0.16 in /usr/local/lib/python3.10/dist-packages (from ipython>=7.1.0->SciFiReaders) (0.19.2)\n",
            "Requirement already satisfied: decorator in /usr/local/lib/python3.10/dist-packages (from ipython>=7.1.0->SciFiReaders) (4.4.2)\n",
            "Requirement already satisfied: pickleshare in /usr/local/lib/python3.10/dist-packages (from ipython>=7.1.0->SciFiReaders) (0.7.5)\n",
            "Requirement already satisfied: traitlets>=4.2 in /usr/local/lib/python3.10/dist-packages (from ipython>=7.1.0->SciFiReaders) (5.7.1)\n",
            "Requirement already satisfied: prompt-toolkit!=3.0.0,!=3.0.1,<3.1.0,>=2.0.0 in /usr/local/lib/python3.10/dist-packages (from ipython>=7.1.0->SciFiReaders) (3.0.48)\n",
            "Requirement already satisfied: pygments in /usr/local/lib/python3.10/dist-packages (from ipython>=7.1.0->SciFiReaders) (2.18.0)\n",
            "Requirement already satisfied: backcall in /usr/local/lib/python3.10/dist-packages (from ipython>=7.1.0->SciFiReaders) (0.2.0)\n",
            "Requirement already satisfied: matplotlib-inline in /usr/local/lib/python3.10/dist-packages (from ipython>=7.1.0->SciFiReaders) (0.1.7)\n",
            "Requirement already satisfied: pexpect>4.3 in /usr/local/lib/python3.10/dist-packages (from ipython>=7.1.0->SciFiReaders) (4.9.0)\n",
            "Requirement already satisfied: llvmlite<0.44,>=0.43.0dev0 in /usr/local/lib/python3.10/dist-packages (from numba>=0.59.0rc1->SciFiReaders) (0.43.0)\n",
            "Requirement already satisfied: h5py>=2.6.0 in /usr/local/lib/python3.10/dist-packages (from sidpy>=0.11.2->SciFiReaders) (3.12.1)\n",
            "Requirement already satisfied: matplotlib>=2.0.0 in /usr/local/lib/python3.10/dist-packages (from sidpy>=0.11.2->SciFiReaders) (3.8.0)\n",
            "Requirement already satisfied: distributed>=2.0.0 in /usr/local/lib/python3.10/dist-packages (from sidpy>=0.11.2->SciFiReaders) (2024.12.0)\n",
            "Requirement already satisfied: psutil in /usr/local/lib/python3.10/dist-packages (from sidpy>=0.11.2->SciFiReaders) (5.9.5)\n",
            "Requirement already satisfied: joblib>=0.11.0 in /usr/local/lib/python3.10/dist-packages (from sidpy>=0.11.2->SciFiReaders) (1.4.2)\n",
            "Requirement already satisfied: ipywidgets in /usr/local/lib/python3.10/dist-packages (from sidpy>=0.11.2->SciFiReaders) (7.7.1)\n",
            "Requirement already satisfied: ipykernel in /usr/local/lib/python3.10/dist-packages (from sidpy>=0.11.2->SciFiReaders) (5.5.6)\n",
            "Requirement already satisfied: scikit-learn in /usr/local/lib/python3.10/dist-packages (from sidpy>=0.11.2->SciFiReaders) (1.5.2)\n",
            "Requirement already satisfied: scipy in /usr/local/lib/python3.10/dist-packages (from sidpy>=0.11.2->SciFiReaders) (1.13.1)\n",
            "Requirement already satisfied: ase in /usr/local/lib/python3.10/dist-packages (from sidpy>=0.11.2->SciFiReaders) (3.23.0)\n",
            "Requirement already satisfied: ipympl in /usr/local/lib/python3.10/dist-packages (from sidpy>=0.11.2->SciFiReaders) (0.9.5)\n",
            "Requirement already satisfied: dill in /usr/local/lib/python3.10/dist-packages (from sidpy>=0.11.2->SciFiReaders) (0.3.9)\n",
            "Requirement already satisfied: beautifulsoup4 in /usr/local/lib/python3.10/dist-packages (from gdown->SciFiReaders) (4.12.3)\n",
            "Requirement already satisfied: filelock in /usr/local/lib/python3.10/dist-packages (from gdown->SciFiReaders) (3.16.1)\n",
            "Requirement already satisfied: requests[socks] in /usr/local/lib/python3.10/dist-packages (from gdown->SciFiReaders) (2.32.3)\n",
            "Requirement already satisfied: tqdm in /usr/local/lib/python3.10/dist-packages (from gdown->SciFiReaders) (4.66.6)\n",
            "Requirement already satisfied: pillow in /usr/local/lib/python3.10/dist-packages (from pyUSID->SciFiReaders) (11.0.0)\n",
            "Requirement already satisfied: six in /usr/local/lib/python3.10/dist-packages (from pyUSID->SciFiReaders) (1.17.0)\n",
            "Requirement already satisfied: jinja2>=2.10.3 in /usr/local/lib/python3.10/dist-packages (from distributed>=2.0.0->sidpy>=0.11.2->SciFiReaders) (3.1.4)\n",
            "Requirement already satisfied: locket>=1.0.0 in /usr/local/lib/python3.10/dist-packages (from distributed>=2.0.0->sidpy>=0.11.2->SciFiReaders) (1.0.0)\n",
            "Requirement already satisfied: msgpack>=1.0.2 in /usr/local/lib/python3.10/dist-packages (from distributed>=2.0.0->sidpy>=0.11.2->SciFiReaders) (1.1.0)\n",
            "Requirement already satisfied: sortedcontainers>=2.0.5 in /usr/local/lib/python3.10/dist-packages (from distributed>=2.0.0->sidpy>=0.11.2->SciFiReaders) (2.4.0)\n",
            "Requirement already satisfied: tblib>=1.6.0 in /usr/local/lib/python3.10/dist-packages (from distributed>=2.0.0->sidpy>=0.11.2->SciFiReaders) (3.0.0)\n",
            "Requirement already satisfied: tornado>=6.2.0 in /usr/local/lib/python3.10/dist-packages (from distributed>=2.0.0->sidpy>=0.11.2->SciFiReaders) (6.3.3)\n",
            "Requirement already satisfied: urllib3>=1.26.5 in /usr/local/lib/python3.10/dist-packages (from distributed>=2.0.0->sidpy>=0.11.2->SciFiReaders) (2.2.3)\n",
            "Requirement already satisfied: zict>=3.0.0 in /usr/local/lib/python3.10/dist-packages (from distributed>=2.0.0->sidpy>=0.11.2->SciFiReaders) (3.0.0)\n",
            "Requirement already satisfied: zipp>=3.20 in /usr/local/lib/python3.10/dist-packages (from importlib_metadata>=4.13.0->dask>=2.20.0->SciFiReaders) (3.21.0)\n",
            "Requirement already satisfied: parso<0.9.0,>=0.8.4 in /usr/local/lib/python3.10/dist-packages (from jedi>=0.16->ipython>=7.1.0->SciFiReaders) (0.8.4)\n",
            "Requirement already satisfied: contourpy>=1.0.1 in /usr/local/lib/python3.10/dist-packages (from matplotlib>=2.0.0->sidpy>=0.11.2->SciFiReaders) (1.3.1)\n",
            "Requirement already satisfied: cycler>=0.10 in /usr/local/lib/python3.10/dist-packages (from matplotlib>=2.0.0->sidpy>=0.11.2->SciFiReaders) (0.12.1)\n",
            "Requirement already satisfied: fonttools>=4.22.0 in /usr/local/lib/python3.10/dist-packages (from matplotlib>=2.0.0->sidpy>=0.11.2->SciFiReaders) (4.55.3)\n",
            "Requirement already satisfied: kiwisolver>=1.0.1 in /usr/local/lib/python3.10/dist-packages (from matplotlib>=2.0.0->sidpy>=0.11.2->SciFiReaders) (1.4.7)\n",
            "Requirement already satisfied: pyparsing>=2.3.1 in /usr/local/lib/python3.10/dist-packages (from matplotlib>=2.0.0->sidpy>=0.11.2->SciFiReaders) (3.2.0)\n",
            "Requirement already satisfied: python-dateutil>=2.7 in /usr/local/lib/python3.10/dist-packages (from matplotlib>=2.0.0->sidpy>=0.11.2->SciFiReaders) (2.8.2)\n",
            "Requirement already satisfied: ptyprocess>=0.5 in /usr/local/lib/python3.10/dist-packages (from pexpect>4.3->ipython>=7.1.0->SciFiReaders) (0.7.0)\n",
            "Requirement already satisfied: wcwidth in /usr/local/lib/python3.10/dist-packages (from prompt-toolkit!=3.0.0,!=3.0.1,<3.1.0,>=2.0.0->ipython>=7.1.0->SciFiReaders) (0.2.13)\n",
            "Requirement already satisfied: soupsieve>1.2 in /usr/local/lib/python3.10/dist-packages (from beautifulsoup4->gdown->SciFiReaders) (2.6)\n",
            "Requirement already satisfied: ipython-genutils in /usr/local/lib/python3.10/dist-packages (from ipykernel->sidpy>=0.11.2->SciFiReaders) (0.2.0)\n",
            "Requirement already satisfied: jupyter-client in /usr/local/lib/python3.10/dist-packages (from ipykernel->sidpy>=0.11.2->SciFiReaders) (6.1.12)\n",
            "Requirement already satisfied: widgetsnbextension~=3.6.0 in /usr/local/lib/python3.10/dist-packages (from ipywidgets->sidpy>=0.11.2->SciFiReaders) (3.6.10)\n",
            "Requirement already satisfied: jupyterlab-widgets>=1.0.0 in /usr/local/lib/python3.10/dist-packages (from ipywidgets->sidpy>=0.11.2->SciFiReaders) (3.0.13)\n",
            "Requirement already satisfied: charset-normalizer<4,>=2 in /usr/local/lib/python3.10/dist-packages (from requests[socks]->gdown->SciFiReaders) (3.4.0)\n",
            "Requirement already satisfied: idna<4,>=2.5 in /usr/local/lib/python3.10/dist-packages (from requests[socks]->gdown->SciFiReaders) (3.10)\n",
            "Requirement already satisfied: certifi>=2017.4.17 in /usr/local/lib/python3.10/dist-packages (from requests[socks]->gdown->SciFiReaders) (2024.8.30)\n",
            "Requirement already satisfied: PySocks!=1.5.7,>=1.5.6 in /usr/local/lib/python3.10/dist-packages (from requests[socks]->gdown->SciFiReaders) (1.7.1)\n",
            "Requirement already satisfied: threadpoolctl>=3.1.0 in /usr/local/lib/python3.10/dist-packages (from scikit-learn->sidpy>=0.11.2->SciFiReaders) (3.5.0)\n",
            "Requirement already satisfied: MarkupSafe>=2.0 in /usr/local/lib/python3.10/dist-packages (from jinja2>=2.10.3->distributed>=2.0.0->sidpy>=0.11.2->SciFiReaders) (3.0.2)\n",
            "Requirement already satisfied: notebook>=4.4.1 in /usr/local/lib/python3.10/dist-packages (from widgetsnbextension~=3.6.0->ipywidgets->sidpy>=0.11.2->SciFiReaders) (6.5.5)\n",
            "Requirement already satisfied: jupyter-core>=4.6.0 in /usr/local/lib/python3.10/dist-packages (from jupyter-client->ipykernel->sidpy>=0.11.2->SciFiReaders) (5.7.2)\n",
            "Requirement already satisfied: pyzmq>=13 in /usr/local/lib/python3.10/dist-packages (from jupyter-client->ipykernel->sidpy>=0.11.2->SciFiReaders) (24.0.1)\n",
            "Requirement already satisfied: platformdirs>=2.5 in /usr/local/lib/python3.10/dist-packages (from jupyter-core>=4.6.0->jupyter-client->ipykernel->sidpy>=0.11.2->SciFiReaders) (4.3.6)\n",
            "Requirement already satisfied: argon2-cffi in /usr/local/lib/python3.10/dist-packages (from notebook>=4.4.1->widgetsnbextension~=3.6.0->ipywidgets->sidpy>=0.11.2->SciFiReaders) (23.1.0)\n",
            "Requirement already satisfied: nbformat in /usr/local/lib/python3.10/dist-packages (from notebook>=4.4.1->widgetsnbextension~=3.6.0->ipywidgets->sidpy>=0.11.2->SciFiReaders) (5.10.4)\n",
            "Requirement already satisfied: nbconvert>=5 in /usr/local/lib/python3.10/dist-packages (from notebook>=4.4.1->widgetsnbextension~=3.6.0->ipywidgets->sidpy>=0.11.2->SciFiReaders) (7.16.4)\n",
            "Requirement already satisfied: nest-asyncio>=1.5 in /usr/local/lib/python3.10/dist-packages (from notebook>=4.4.1->widgetsnbextension~=3.6.0->ipywidgets->sidpy>=0.11.2->SciFiReaders) (1.6.0)\n",
            "Requirement already satisfied: Send2Trash>=1.8.0 in /usr/local/lib/python3.10/dist-packages (from notebook>=4.4.1->widgetsnbextension~=3.6.0->ipywidgets->sidpy>=0.11.2->SciFiReaders) (1.8.3)\n",
            "Requirement already satisfied: terminado>=0.8.3 in /usr/local/lib/python3.10/dist-packages (from notebook>=4.4.1->widgetsnbextension~=3.6.0->ipywidgets->sidpy>=0.11.2->SciFiReaders) (0.18.1)\n",
            "Requirement already satisfied: prometheus-client in /usr/local/lib/python3.10/dist-packages (from notebook>=4.4.1->widgetsnbextension~=3.6.0->ipywidgets->sidpy>=0.11.2->SciFiReaders) (0.21.1)\n",
            "Requirement already satisfied: nbclassic>=0.4.7 in /usr/local/lib/python3.10/dist-packages (from notebook>=4.4.1->widgetsnbextension~=3.6.0->ipywidgets->sidpy>=0.11.2->SciFiReaders) (1.1.0)\n",
            "Requirement already satisfied: notebook-shim>=0.2.3 in /usr/local/lib/python3.10/dist-packages (from nbclassic>=0.4.7->notebook>=4.4.1->widgetsnbextension~=3.6.0->ipywidgets->sidpy>=0.11.2->SciFiReaders) (0.2.4)\n",
            "Requirement already satisfied: bleach!=5.0.0 in /usr/local/lib/python3.10/dist-packages (from nbconvert>=5->notebook>=4.4.1->widgetsnbextension~=3.6.0->ipywidgets->sidpy>=0.11.2->SciFiReaders) (6.2.0)\n",
            "Requirement already satisfied: defusedxml in /usr/local/lib/python3.10/dist-packages (from nbconvert>=5->notebook>=4.4.1->widgetsnbextension~=3.6.0->ipywidgets->sidpy>=0.11.2->SciFiReaders) (0.7.1)\n",
            "Requirement already satisfied: jupyterlab-pygments in /usr/local/lib/python3.10/dist-packages (from nbconvert>=5->notebook>=4.4.1->widgetsnbextension~=3.6.0->ipywidgets->sidpy>=0.11.2->SciFiReaders) (0.3.0)\n",
            "Requirement already satisfied: mistune<4,>=2.0.3 in /usr/local/lib/python3.10/dist-packages (from nbconvert>=5->notebook>=4.4.1->widgetsnbextension~=3.6.0->ipywidgets->sidpy>=0.11.2->SciFiReaders) (3.0.2)\n",
            "Requirement already satisfied: nbclient>=0.5.0 in /usr/local/lib/python3.10/dist-packages (from nbconvert>=5->notebook>=4.4.1->widgetsnbextension~=3.6.0->ipywidgets->sidpy>=0.11.2->SciFiReaders) (0.10.1)\n",
            "Requirement already satisfied: pandocfilters>=1.4.1 in /usr/local/lib/python3.10/dist-packages (from nbconvert>=5->notebook>=4.4.1->widgetsnbextension~=3.6.0->ipywidgets->sidpy>=0.11.2->SciFiReaders) (1.5.1)\n",
            "Requirement already satisfied: tinycss2 in /usr/local/lib/python3.10/dist-packages (from nbconvert>=5->notebook>=4.4.1->widgetsnbextension~=3.6.0->ipywidgets->sidpy>=0.11.2->SciFiReaders) (1.4.0)\n",
            "Requirement already satisfied: fastjsonschema>=2.15 in /usr/local/lib/python3.10/dist-packages (from nbformat->notebook>=4.4.1->widgetsnbextension~=3.6.0->ipywidgets->sidpy>=0.11.2->SciFiReaders) (2.21.1)\n",
            "Requirement already satisfied: jsonschema>=2.6 in /usr/local/lib/python3.10/dist-packages (from nbformat->notebook>=4.4.1->widgetsnbextension~=3.6.0->ipywidgets->sidpy>=0.11.2->SciFiReaders) (4.23.0)\n",
            "Requirement already satisfied: argon2-cffi-bindings in /usr/local/lib/python3.10/dist-packages (from argon2-cffi->notebook>=4.4.1->widgetsnbextension~=3.6.0->ipywidgets->sidpy>=0.11.2->SciFiReaders) (21.2.0)\n",
            "Requirement already satisfied: webencodings in /usr/local/lib/python3.10/dist-packages (from bleach!=5.0.0->nbconvert>=5->notebook>=4.4.1->widgetsnbextension~=3.6.0->ipywidgets->sidpy>=0.11.2->SciFiReaders) (0.5.1)\n",
            "Requirement already satisfied: attrs>=22.2.0 in /usr/local/lib/python3.10/dist-packages (from jsonschema>=2.6->nbformat->notebook>=4.4.1->widgetsnbextension~=3.6.0->ipywidgets->sidpy>=0.11.2->SciFiReaders) (24.2.0)\n",
            "Requirement already satisfied: jsonschema-specifications>=2023.03.6 in /usr/local/lib/python3.10/dist-packages (from jsonschema>=2.6->nbformat->notebook>=4.4.1->widgetsnbextension~=3.6.0->ipywidgets->sidpy>=0.11.2->SciFiReaders) (2024.10.1)\n",
            "Requirement already satisfied: referencing>=0.28.4 in /usr/local/lib/python3.10/dist-packages (from jsonschema>=2.6->nbformat->notebook>=4.4.1->widgetsnbextension~=3.6.0->ipywidgets->sidpy>=0.11.2->SciFiReaders) (0.35.1)\n",
            "Requirement already satisfied: rpds-py>=0.7.1 in /usr/local/lib/python3.10/dist-packages (from jsonschema>=2.6->nbformat->notebook>=4.4.1->widgetsnbextension~=3.6.0->ipywidgets->sidpy>=0.11.2->SciFiReaders) (0.22.3)\n",
            "Requirement already satisfied: jupyter-server<3,>=1.8 in /usr/local/lib/python3.10/dist-packages (from notebook-shim>=0.2.3->nbclassic>=0.4.7->notebook>=4.4.1->widgetsnbextension~=3.6.0->ipywidgets->sidpy>=0.11.2->SciFiReaders) (1.24.0)\n",
            "Requirement already satisfied: cffi>=1.0.1 in /usr/local/lib/python3.10/dist-packages (from argon2-cffi-bindings->argon2-cffi->notebook>=4.4.1->widgetsnbextension~=3.6.0->ipywidgets->sidpy>=0.11.2->SciFiReaders) (1.17.1)\n",
            "Requirement already satisfied: pycparser in /usr/local/lib/python3.10/dist-packages (from cffi>=1.0.1->argon2-cffi-bindings->argon2-cffi->notebook>=4.4.1->widgetsnbextension~=3.6.0->ipywidgets->sidpy>=0.11.2->SciFiReaders) (2.22)\n",
            "Requirement already satisfied: anyio<4,>=3.1.0 in /usr/local/lib/python3.10/dist-packages (from jupyter-server<3,>=1.8->notebook-shim>=0.2.3->nbclassic>=0.4.7->notebook>=4.4.1->widgetsnbextension~=3.6.0->ipywidgets->sidpy>=0.11.2->SciFiReaders) (3.7.1)\n",
            "Requirement already satisfied: websocket-client in /usr/local/lib/python3.10/dist-packages (from jupyter-server<3,>=1.8->notebook-shim>=0.2.3->nbclassic>=0.4.7->notebook>=4.4.1->widgetsnbextension~=3.6.0->ipywidgets->sidpy>=0.11.2->SciFiReaders) (1.8.0)\n",
            "Requirement already satisfied: sniffio>=1.1 in /usr/local/lib/python3.10/dist-packages (from anyio<4,>=3.1.0->jupyter-server<3,>=1.8->notebook-shim>=0.2.3->nbclassic>=0.4.7->notebook>=4.4.1->widgetsnbextension~=3.6.0->ipywidgets->sidpy>=0.11.2->SciFiReaders) (1.3.1)\n",
            "Requirement already satisfied: exceptiongroup in /usr/local/lib/python3.10/dist-packages (from anyio<4,>=3.1.0->jupyter-server<3,>=1.8->notebook-shim>=0.2.3->nbclassic>=0.4.7->notebook>=4.4.1->widgetsnbextension~=3.6.0->ipywidgets->sidpy>=0.11.2->SciFiReaders) (1.2.2)\n"
          ]
        }
      ]
    },
    {
      "cell_type": "code",
      "source": [
        "import SciFiReaders\n",
        "from DTMicroscope.base import BaseMicroscope\n",
        "from glob import glob\n",
        "import matplotlib.pyplot as plt\n",
        "import numpy as np\n",
        "import time\n",
        "import cv2\n",
        "from IPython.display import display, clear_output\n",
        "from tensorflow.keras.models import load_model\n",
        "import Contour_analysis\n",
        "import segmentation_function\n",
        "import iterativeclustering\n",
        "\n",
        "class TEM(BaseMicroscope):\n",
        "  \"\"\"I rewrote a new BaseMicroscope class for TEM data\"\"\"\n",
        "  def __init__(self, data_path = None) -> None:\n",
        "    super().__init__(data_path=data_path)\n",
        "    #self._load_dataset_ram()\n",
        "\n",
        "  def _sort_datasets(self):\n",
        "      self.data_dict = glob(self.data_path + '*.dm4')\n",
        "\n",
        "  def _load_dataset_ram(self):\n",
        "      self.dataset = []\n",
        "      for file in self.data_dict:\n",
        "        reader = SciFiReaders.DM3Reader(file)\n",
        "        self.dataset.append(reader.read())\n",
        "      return\n",
        "\n",
        "def split_image(image):\n",
        "    \"\"\"\n",
        "    Splits a (2048, 2048) numpy array into 16 (512, 512) sub-images.\n",
        "\n",
        "    Parameters:\n",
        "        image (numpy.ndarray): Input image of shape (2048, 2048), dtype=float.\n",
        "\n",
        "    Returns:\n",
        "        numpy.ndarray: Array of shape (16, 512, 512), dtype=float, containing the sub-images.\n",
        "    \"\"\"\n",
        "    if image.shape != (2048, 2048):\n",
        "        raise ValueError(\"Input image must have shape (2048, 2048).\")\n",
        "    image = image.astype(np.float32)\n",
        "    lb = np.percentile(image,0.8)\n",
        "    ub = np.percentile(image,99.2)\n",
        "    image = (image - lb) / (ub - lb)\n",
        "    image[image < 0] = 0\n",
        "    image[image > 1] = 1\n",
        "    image = cv2.GaussianBlur(image, ksize=(0, 0), sigmaX=2, sigmaY=2)\n",
        "    # Initialize output array to store 16 (512, 512) images\n",
        "    sub_images = np.zeros((16, 512, 512), dtype=image.dtype)\n",
        "\n",
        "    # Split the image into 512x512 chunks\n",
        "    idx = 0\n",
        "    for i in range(0, 2048, 512):\n",
        "        for j in range(0, 2048, 512):\n",
        "            sub_images[idx] = image[i:i+512, j:j+512]\n",
        "            idx += 1\n",
        "    return sub_images\n",
        "\n",
        "def stitch_images(sub_images):\n",
        "  image = np.zeros((2048,2048))\n",
        "  idx = 0\n",
        "  for i in range(0, 2048, 512):\n",
        "    for j in range(0, 2048, 512):\n",
        "      image[i:i+512, j:j+512] = np.argmax(sub_images[idx],axis = 2)\n",
        "      idx += 1\n",
        "  return image\n",
        "\n",
        "def get_stats(analyzer_results):\n",
        "  areas = np.array([x['area'] for x in analyzer_results])\n",
        "  aspect_ratio = np.array([x['aspect_ratio'] for x in analyzer_results])\n",
        "  circularity = np.array([x['circularity'] for x in analyzer_results])\n",
        "  convexity = np.array([x['convexity'] for x in analyzer_results])\n",
        "  return np.stack((areas,aspect_ratio,circularity,convexity),axis = 1)\n",
        "\n",
        "def filter(analyzer_results):\n",
        "  convexity = np.array([x['convexity'] for x in analyzer_results])\n",
        "  solidity = np.array([x['solidity'] for x in analyzer_results])\n",
        "  mask = np.logical_and(convexity>0.9, solidity>0.95)\n",
        "  return np.array(analyzer_results)[mask].tolist(), mask"
      ],
      "metadata": {
        "colab": {
          "base_uri": "https://localhost:8080/"
        },
        "id": "SlIaWK-K7mv8",
        "outputId": "a26a2ebd-3727-4dc0-9b13-7b65f1b1dbeb"
      },
      "execution_count": 3,
      "outputs": [
        {
          "output_type": "stream",
          "name": "stdout",
          "text": [
            "You don't have igor2 installed.     If you wish to open igor files, you will need to install it     (pip install igor2) before attempting.\n",
            "You don't have gwyfile installed.     If you wish to open .gwy files, you will need to      install it (pip install gwyfile) before attempting.\n"
          ]
        }
      ]
    },
    {
      "cell_type": "code",
      "source": [
        "model = load_model('model.keras')\n",
        "M = TEM(\"test_data/\")\n",
        "M._load_dataset_ram()"
      ],
      "metadata": {
        "id": "ik9O9d_DnuBg"
      },
      "execution_count": 4,
      "outputs": []
    },
    {
      "cell_type": "code",
      "source": [
        "np.seterr(all=\"ignore\")\n",
        "analyzer = Contour_analysis.ContourAnalyzer()\n",
        "iterativecluster = iterativeclustering.iterativeclustering()\n",
        "t0 = time.time()\n",
        "color = np.concatenate((np.expand_dims(np.array([0,0,1]), axis = 0), np.expand_dims(np.array([0,1,0]), axis = 0), np.expand_dims(np.array([1,0,0]), axis = 0) , np.random.rand(10,3)), axis = 0)\n",
        "binE = np.arange(-1,1.05,0.05)\n",
        "binC = (binE[:-1]+binE[1:])/2\n",
        "\n",
        "for itr in range(30):\n",
        "  '''this for loop mimics the continous viewing mode on TEM'''\n",
        "\n",
        "  data = M.dataset[np.mod(itr,len(M.dataset))]\n",
        "  t = time.time()\n",
        "  data_np = data['Channel_000'].compute()\n",
        "  data_np = cv2.resize(data_np,(2048,2048))\n",
        "  data_fplot = cv2.resize(data_np,(512,512))\n",
        "\n",
        "  '''make predictions'''\n",
        "  data_sub = split_image(data_np)\n",
        "  predictions = model.predict(data_sub, batch_size=1, verbose=0)\n",
        "  data_pred = stitch_images(predictions)\n",
        "  Bs = segmentation_function.process_image(data_pred/2*255)\n",
        "  N = len(Bs)\n",
        "\n",
        "  '''do some statistic'''\n",
        "  for B in Bs:\n",
        "    analyzer.all_properties.append(analyzer.analyze_single_contour(B))\n",
        "  results_filtered, mask = filter(analyzer.all_properties)\n",
        "  Bs = Bs[mask[-N:]]\n",
        "\n",
        "  stats = get_stats(results_filtered)\n",
        "  stats_norm = iterativecluster.norm(stats)\n",
        "  values1,_ = np.histogram(stats_norm[:,0], bins= binE)\n",
        "  values2,_ = np.histogram(stats_norm[:,1], bins= binE)\n",
        "  values3,_ = np.histogram(stats_norm[:,2], bins= binE)\n",
        "  values4,_ = np.histogram(stats_norm[:,3], bins= binE)\n",
        "\n",
        "  '''do clustering'''\n",
        "  opt_results, step_results = iterativecluster.iterativeclustering(stats_norm, 5)\n",
        "  label = opt_results[\"classes\"]\n",
        "\n",
        "  '''plotting'''\n",
        "  f,axs = plt.subplots(2,2, figsize = (10,10))\n",
        "  axs[0][0].imshow(data_fplot,cmap = 'gray')\n",
        "  axs[0][0].set_title('Original')\n",
        "  axs[0][0].text(400,20,'FPS: ' + '{:.2f}'.format(1/(t-t0)))\n",
        "\n",
        "  axs[0][1].imshow(data_pred,cmap = 'gray')\n",
        "  axs[0][1].set_title('U-Net prediction')\n",
        "\n",
        "  axs[1][0].imshow(data_fplot,cmap = 'gray')\n",
        "\n",
        "  itr = 0\n",
        "  for B in Bs:\n",
        "    axs[1][0].plot(np.concatenate((B[:,0],B[:2,0])),np.concatenate((B[:,1],B[:2,1])), linewidth = 1, color = color[label[itr],:])\n",
        "    itr += 1\n",
        "  axs[1][0].set_title('Contours')\n",
        "\n",
        "  axs[1][1].bar(binC, values1, width=0.04, alpha = 0.1)\n",
        "  axs[1][1].bar(binC, values2, width=0.04, alpha = 0.1)\n",
        "  axs[1][1].bar(binC, values3, width=0.04, alpha = 0.1)\n",
        "  axs[1][1].bar(binC, values4, width=0.04, alpha = 0.1)\n",
        "  axs[1][1].set_title('Statistics')\n",
        "  axs[1][1].legend(labels=['area', 'aspect_ratio', 'circularity', 'convexity'])\n",
        "  t0 = time.time()\n",
        "  plt.show()\n",
        "  time.sleep(0.1)\n",
        "  clear_output(wait=True)"
      ],
      "metadata": {
        "colab": {
          "base_uri": "https://localhost:8080/",
          "height": 391
        },
        "id": "KGLqMrVhEOxx",
        "outputId": "92c5a33c-9e00-4bd6-8651-186ce749a69d"
      },
      "execution_count": 18,
      "outputs": [
        {
          "output_type": "stream",
          "name": "stdout",
          "text": [
            "Maximum number of iterations reached.\n",
            "Maximum number of iterations reached.\n"
          ]
        },
        {
          "output_type": "error",
          "ename": "KeyboardInterrupt",
          "evalue": "",
          "traceback": [
            "\u001b[0;31m---------------------------------------------------------------------------\u001b[0m",
            "\u001b[0;31mKeyboardInterrupt\u001b[0m                         Traceback (most recent call last)",
            "\u001b[0;32m<ipython-input-18-157ecbbf7c7a>\u001b[0m in \u001b[0;36m<cell line: 9>\u001b[0;34m()\u001b[0m\n\u001b[1;32m     37\u001b[0m \u001b[0;34m\u001b[0m\u001b[0m\n\u001b[1;32m     38\u001b[0m   \u001b[0;34m'''do clustering'''\u001b[0m\u001b[0;34m\u001b[0m\u001b[0;34m\u001b[0m\u001b[0m\n\u001b[0;32m---> 39\u001b[0;31m   \u001b[0mopt_results\u001b[0m\u001b[0;34m,\u001b[0m \u001b[0mstep_results\u001b[0m \u001b[0;34m=\u001b[0m \u001b[0miterativecluster\u001b[0m\u001b[0;34m.\u001b[0m\u001b[0miterativeclustering\u001b[0m\u001b[0;34m(\u001b[0m\u001b[0mstats_norm\u001b[0m\u001b[0;34m,\u001b[0m \u001b[0;36m5\u001b[0m\u001b[0;34m)\u001b[0m\u001b[0;34m\u001b[0m\u001b[0;34m\u001b[0m\u001b[0m\n\u001b[0m\u001b[1;32m     40\u001b[0m   \u001b[0mlabel\u001b[0m \u001b[0;34m=\u001b[0m \u001b[0mopt_results\u001b[0m\u001b[0;34m[\u001b[0m\u001b[0;34m\"classes\"\u001b[0m\u001b[0;34m]\u001b[0m\u001b[0;34m\u001b[0m\u001b[0;34m\u001b[0m\u001b[0m\n\u001b[1;32m     41\u001b[0m \u001b[0;34m\u001b[0m\u001b[0m\n",
            "\u001b[0;32m/content/drive/My Drive/Hackathon/DTM/iterativeclustering.py\u001b[0m in \u001b[0;36miterativeclustering\u001b[0;34m(self, data, n)\u001b[0m\n\u001b[1;32m    290\u001b[0m                     \u001b[0;31m# Perform sub-clustering on data belonging to class i\u001b[0m\u001b[0;34m\u001b[0m\u001b[0;34m\u001b[0m\u001b[0m\n\u001b[1;32m    291\u001b[0m                     \u001b[0mdata_sub\u001b[0m \u001b[0;34m=\u001b[0m \u001b[0mdata\u001b[0m\u001b[0;34m[\u001b[0m\u001b[0mclustering\u001b[0m\u001b[0;34m.\u001b[0m\u001b[0mclasses\u001b[0m \u001b[0;34m==\u001b[0m \u001b[0mi\u001b[0m\u001b[0;34m]\u001b[0m\u001b[0;34m\u001b[0m\u001b[0;34m\u001b[0m\u001b[0m\n\u001b[0;32m--> 292\u001b[0;31m                     \u001b[0msub_clustering\u001b[0m\u001b[0;34m[\u001b[0m\u001b[0mi\u001b[0m \u001b[0;34m-\u001b[0m \u001b[0;36m1\u001b[0m\u001b[0;34m]\u001b[0m \u001b[0;34m=\u001b[0m \u001b[0mself\u001b[0m\u001b[0;34m.\u001b[0m\u001b[0mP_clustering\u001b[0m\u001b[0;34m(\u001b[0m\u001b[0mdata_sub\u001b[0m\u001b[0;34m)\u001b[0m\u001b[0;34m\u001b[0m\u001b[0;34m\u001b[0m\u001b[0m\n\u001b[0m\u001b[1;32m    293\u001b[0m \u001b[0;34m\u001b[0m\u001b[0m\n\u001b[1;32m    294\u001b[0m                     \u001b[0;31m# Check conditions to decide whether to split the cluster further\u001b[0m\u001b[0;34m\u001b[0m\u001b[0;34m\u001b[0m\u001b[0m\n",
            "\u001b[0;32m/content/drive/My Drive/Hackathon/DTM/iterativeclustering.py\u001b[0m in \u001b[0;36mP_clustering\u001b[0;34m(self, data)\u001b[0m\n\u001b[1;32m    204\u001b[0m \u001b[0;34m\u001b[0m\u001b[0m\n\u001b[1;32m    205\u001b[0m                 \u001b[0;31m# Perform Naive Bayes classification\u001b[0m\u001b[0;34m\u001b[0m\u001b[0;34m\u001b[0m\u001b[0m\n\u001b[0;32m--> 206\u001b[0;31m                 \u001b[0mclass_idx_em_temp\u001b[0m\u001b[0;34m,\u001b[0m \u001b[0mparams\u001b[0m \u001b[0;34m=\u001b[0m \u001b[0mself\u001b[0m\u001b[0;34m.\u001b[0m\u001b[0mnaivebayes\u001b[0m\u001b[0;34m(\u001b[0m\u001b[0mdata\u001b[0m\u001b[0;34m,\u001b[0m \u001b[0mclass_idx_temp\u001b[0m\u001b[0;34m)\u001b[0m\u001b[0;34m\u001b[0m\u001b[0;34m\u001b[0m\u001b[0m\n\u001b[0m\u001b[1;32m    207\u001b[0m \u001b[0;34m\u001b[0m\u001b[0m\n\u001b[1;32m    208\u001b[0m                 \u001b[0;31m# Store the number of unique classes\u001b[0m\u001b[0;34m\u001b[0m\u001b[0;34m\u001b[0m\u001b[0m\n",
            "\u001b[0;32m/content/drive/My Drive/Hackathon/DTM/iterativeclustering.py\u001b[0m in \u001b[0;36mnaivebayes\u001b[0;34m(self, data, initial_labels, max_iterations, tol)\u001b[0m\n\u001b[1;32m     83\u001b[0m         \u001b[0;32mwhile\u001b[0m \u001b[0mcount\u001b[0m \u001b[0;34m<\u001b[0m \u001b[0mmax_iterations\u001b[0m\u001b[0;34m:\u001b[0m\u001b[0;34m\u001b[0m\u001b[0;34m\u001b[0m\u001b[0m\n\u001b[1;32m     84\u001b[0m             \u001b[0;31m# Assign new labels based on current parameters\u001b[0m\u001b[0;34m\u001b[0m\u001b[0;34m\u001b[0m\u001b[0m\n\u001b[0;32m---> 85\u001b[0;31m             \u001b[0mlabels\u001b[0m \u001b[0;34m=\u001b[0m \u001b[0mself\u001b[0m\u001b[0;34m.\u001b[0m\u001b[0massignlabels\u001b[0m\u001b[0;34m(\u001b[0m\u001b[0mdata\u001b[0m\u001b[0;34m,\u001b[0m \u001b[0mmu\u001b[0m\u001b[0;34m,\u001b[0m \u001b[0msigma\u001b[0m\u001b[0;34m)\u001b[0m\u001b[0;34m\u001b[0m\u001b[0;34m\u001b[0m\u001b[0m\n\u001b[0m\u001b[1;32m     86\u001b[0m \u001b[0;34m\u001b[0m\u001b[0m\n\u001b[1;32m     87\u001b[0m             \u001b[0;31m# Update parameters based on new labels\u001b[0m\u001b[0;34m\u001b[0m\u001b[0;34m\u001b[0m\u001b[0m\n",
            "\u001b[0;32m/content/drive/My Drive/Hackathon/DTM/iterativeclustering.py\u001b[0m in \u001b[0;36massignlabels\u001b[0;34m(self, data, mu, sigma)\u001b[0m\n\u001b[1;32m     26\u001b[0m                 \u001b[0mlikelihoods\u001b[0m\u001b[0;34m[\u001b[0m\u001b[0;34m:\u001b[0m\u001b[0;34m,\u001b[0m \u001b[0mi\u001b[0m\u001b[0;34m]\u001b[0m \u001b[0;34m=\u001b[0m \u001b[0mfloat\u001b[0m\u001b[0;34m(\u001b[0m\u001b[0;34m'-inf'\u001b[0m\u001b[0;34m)\u001b[0m\u001b[0;34m\u001b[0m\u001b[0;34m\u001b[0m\u001b[0m\n\u001b[1;32m     27\u001b[0m             \u001b[0;32melse\u001b[0m\u001b[0;34m:\u001b[0m\u001b[0;34m\u001b[0m\u001b[0;34m\u001b[0m\u001b[0m\n\u001b[0;32m---> 28\u001b[0;31m                 \u001b[0mmvnpdf\u001b[0m \u001b[0;34m=\u001b[0m \u001b[0mmultivariate_normal\u001b[0m\u001b[0;34m(\u001b[0m\u001b[0mmean\u001b[0m\u001b[0;34m=\u001b[0m\u001b[0mmu\u001b[0m\u001b[0;34m[\u001b[0m\u001b[0mi\u001b[0m\u001b[0;34m,\u001b[0m\u001b[0;34m:\u001b[0m\u001b[0;34m]\u001b[0m\u001b[0;34m,\u001b[0m \u001b[0mcov\u001b[0m\u001b[0;34m=\u001b[0m\u001b[0mnp\u001b[0m\u001b[0;34m.\u001b[0m\u001b[0mdiag\u001b[0m\u001b[0;34m(\u001b[0m\u001b[0msigma\u001b[0m\u001b[0;34m[\u001b[0m\u001b[0mi\u001b[0m\u001b[0;34m,\u001b[0m\u001b[0;34m:\u001b[0m\u001b[0;34m]\u001b[0m\u001b[0;34m)\u001b[0m\u001b[0;34m)\u001b[0m\u001b[0;34m\u001b[0m\u001b[0;34m\u001b[0m\u001b[0m\n\u001b[0m\u001b[1;32m     29\u001b[0m                 \u001b[0mlikelihoods\u001b[0m\u001b[0;34m[\u001b[0m\u001b[0;34m:\u001b[0m\u001b[0;34m,\u001b[0m \u001b[0mi\u001b[0m\u001b[0;34m]\u001b[0m \u001b[0;34m=\u001b[0m \u001b[0mnp\u001b[0m\u001b[0;34m.\u001b[0m\u001b[0mlog\u001b[0m\u001b[0;34m(\u001b[0m\u001b[0mmvnpdf\u001b[0m\u001b[0;34m.\u001b[0m\u001b[0mpdf\u001b[0m\u001b[0;34m(\u001b[0m\u001b[0mdata\u001b[0m\u001b[0;34m)\u001b[0m\u001b[0;34m)\u001b[0m\u001b[0;34m\u001b[0m\u001b[0;34m\u001b[0m\u001b[0m\n\u001b[1;32m     30\u001b[0m \u001b[0;34m\u001b[0m\u001b[0m\n",
            "\u001b[0;32m/usr/local/lib/python3.10/dist-packages/scipy/stats/_multivariate.py\u001b[0m in \u001b[0;36m__call__\u001b[0;34m(self, mean, cov, allow_singular, seed)\u001b[0m\n\u001b[1;32m    395\u001b[0m         \u001b[0mSee\u001b[0m\u001b[0;31m \u001b[0m\u001b[0;31m`\u001b[0m\u001b[0mmultivariate_normal_frozen\u001b[0m\u001b[0;31m`\u001b[0m \u001b[0;32mfor\u001b[0m \u001b[0mmore\u001b[0m \u001b[0minformation\u001b[0m\u001b[0;34m.\u001b[0m\u001b[0;34m\u001b[0m\u001b[0;34m\u001b[0m\u001b[0m\n\u001b[1;32m    396\u001b[0m         \"\"\"\n\u001b[0;32m--> 397\u001b[0;31m         return multivariate_normal_frozen(mean, cov,\n\u001b[0m\u001b[1;32m    398\u001b[0m                                           \u001b[0mallow_singular\u001b[0m\u001b[0;34m=\u001b[0m\u001b[0mallow_singular\u001b[0m\u001b[0;34m,\u001b[0m\u001b[0;34m\u001b[0m\u001b[0;34m\u001b[0m\u001b[0m\n\u001b[1;32m    399\u001b[0m                                           seed=seed)\n",
            "\u001b[0;32m/usr/local/lib/python3.10/dist-packages/scipy/stats/_multivariate.py\u001b[0m in \u001b[0;36m__init__\u001b[0;34m(self, mean, cov, allow_singular, seed, maxpts, abseps, releps)\u001b[0m\n\u001b[1;32m    899\u001b[0m \u001b[0;34m\u001b[0m\u001b[0m\n\u001b[1;32m    900\u001b[0m         \"\"\" # numpy/numpydoc#87  # noqa: E501\n\u001b[0;32m--> 901\u001b[0;31m         \u001b[0mself\u001b[0m\u001b[0;34m.\u001b[0m\u001b[0m_dist\u001b[0m \u001b[0;34m=\u001b[0m \u001b[0mmultivariate_normal_gen\u001b[0m\u001b[0;34m(\u001b[0m\u001b[0mseed\u001b[0m\u001b[0;34m)\u001b[0m\u001b[0;34m\u001b[0m\u001b[0;34m\u001b[0m\u001b[0m\n\u001b[0m\u001b[1;32m    902\u001b[0m         self.dim, self.mean, self.cov_object = (\n\u001b[1;32m    903\u001b[0m             self._dist._process_parameters(mean, cov, allow_singular))\n",
            "\u001b[0;32m/usr/local/lib/python3.10/dist-packages/scipy/stats/_multivariate.py\u001b[0m in \u001b[0;36m__init__\u001b[0;34m(self, seed)\u001b[0m\n\u001b[1;32m    388\u001b[0m     \u001b[0;32mdef\u001b[0m \u001b[0m__init__\u001b[0m\u001b[0;34m(\u001b[0m\u001b[0mself\u001b[0m\u001b[0;34m,\u001b[0m \u001b[0mseed\u001b[0m\u001b[0;34m=\u001b[0m\u001b[0;32mNone\u001b[0m\u001b[0;34m)\u001b[0m\u001b[0;34m:\u001b[0m\u001b[0;34m\u001b[0m\u001b[0;34m\u001b[0m\u001b[0m\n\u001b[1;32m    389\u001b[0m         \u001b[0msuper\u001b[0m\u001b[0;34m(\u001b[0m\u001b[0;34m)\u001b[0m\u001b[0;34m.\u001b[0m\u001b[0m__init__\u001b[0m\u001b[0;34m(\u001b[0m\u001b[0mseed\u001b[0m\u001b[0;34m)\u001b[0m\u001b[0;34m\u001b[0m\u001b[0;34m\u001b[0m\u001b[0m\n\u001b[0;32m--> 390\u001b[0;31m         \u001b[0mself\u001b[0m\u001b[0;34m.\u001b[0m\u001b[0m__doc__\u001b[0m \u001b[0;34m=\u001b[0m \u001b[0mdoccer\u001b[0m\u001b[0;34m.\u001b[0m\u001b[0mdocformat\u001b[0m\u001b[0;34m(\u001b[0m\u001b[0mself\u001b[0m\u001b[0;34m.\u001b[0m\u001b[0m__doc__\u001b[0m\u001b[0;34m,\u001b[0m \u001b[0mmvn_docdict_params\u001b[0m\u001b[0;34m)\u001b[0m\u001b[0;34m\u001b[0m\u001b[0;34m\u001b[0m\u001b[0m\n\u001b[0m\u001b[1;32m    391\u001b[0m \u001b[0;34m\u001b[0m\u001b[0m\n\u001b[1;32m    392\u001b[0m     \u001b[0;32mdef\u001b[0m \u001b[0m__call__\u001b[0m\u001b[0;34m(\u001b[0m\u001b[0mself\u001b[0m\u001b[0;34m,\u001b[0m \u001b[0mmean\u001b[0m\u001b[0;34m=\u001b[0m\u001b[0;32mNone\u001b[0m\u001b[0;34m,\u001b[0m \u001b[0mcov\u001b[0m\u001b[0;34m=\u001b[0m\u001b[0;36m1\u001b[0m\u001b[0;34m,\u001b[0m \u001b[0mallow_singular\u001b[0m\u001b[0;34m=\u001b[0m\u001b[0;32mFalse\u001b[0m\u001b[0;34m,\u001b[0m \u001b[0mseed\u001b[0m\u001b[0;34m=\u001b[0m\u001b[0;32mNone\u001b[0m\u001b[0;34m)\u001b[0m\u001b[0;34m:\u001b[0m\u001b[0;34m\u001b[0m\u001b[0;34m\u001b[0m\u001b[0m\n",
            "\u001b[0;31mKeyboardInterrupt\u001b[0m: "
          ]
        }
      ]
    }
  ],
  "metadata": {
    "colab": {
      "provenance": [],
      "gpuType": "T4"
    },
    "kernelspec": {
      "display_name": "Python 3",
      "name": "python3"
    },
    "language_info": {
      "name": "python"
    },
    "accelerator": "GPU"
  },
  "nbformat": 4,
  "nbformat_minor": 0
}