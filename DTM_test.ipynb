{
  "cells": [
    {
      "cell_type": "code",
      "execution_count": 1,
      "metadata": {
        "colab": {
          "base_uri": "https://localhost:8080/"
        },
        "id": "1YM6e7bx1h-5",
        "outputId": "ad4ee672-28bb-4d32-a9c8-65ae3547ca7e"
      },
      "outputs": [
        {
          "output_type": "stream",
          "name": "stdout",
          "text": [
            "Mounted at /content/drive\n"
          ]
        },
        {
          "output_type": "execute_result",
          "data": {
            "text/plain": [
              "['DTMicroscope',\n",
              " 'test_data',\n",
              " 'model.keras',\n",
              " '__pycache__',\n",
              " 'DTM_test.ipynb',\n",
              " 'segmentation_function.py',\n",
              " 'iterativeclustering.py',\n",
              " 'Contour_analysis.py']"
            ]
          },
          "metadata": {},
          "execution_count": 1
        }
      ],
      "source": [
        "#cd to the script folder\n",
        "from google.colab import drive\n",
        "import os\n",
        "import sys\n",
        "import gdown\n",
        "\n",
        "drive.mount('/content/drive', force_remount=True)\n",
        "os.chdir('/content/drive/My Drive/Hackathon/DTM') #Need to change the address to where your script is\n",
        "os.listdir('.')"
      ]
    },
    {
      "cell_type": "code",
      "execution_count": 7,
      "metadata": {
        "colab": {
          "base_uri": "https://localhost:8080/",
          "height": 53
        },
        "id": "1kADgsEp45WH",
        "outputId": "93f070c6-8786-4ef4-8988-8d658849b6db"
      },
      "outputs": [
        {
          "output_type": "stream",
          "name": "stdout",
          "text": [
            "fatal: destination path 'DTMicroscope' already exists and is not an empty directory.\n"
          ]
        },
        {
          "output_type": "execute_result",
          "data": {
            "text/plain": [
              "'model.keras'"
            ],
            "application/vnd.google.colaboratory.intrinsic+json": {
              "type": "string"
            }
          },
          "metadata": {},
          "execution_count": 7
        }
      ],
      "source": [
        "'''download necessary data and packages'''\n",
        "!git clone https://github.com/pycroscopy/DTMicroscope.git                                                                  #DTM\n",
        "gdown.download_folder('https://drive.google.com/drive/folders/17F3iXxnb5I5tktyEW_et5iK9yJGhU_Lj?usp=sharing', quiet=True)  #dataset\n",
        "gdown.download('https://drive.google.com/uc?id=1UQnigKw8o7psh3oIhRATAy4FNXTkbldL', quiet=True)                             #model#"
      ]
    },
    {
      "cell_type": "code",
      "source": [
        "'''Instal packages'''\n",
        "os.chdir('/content/drive/My Drive/Hackathon/DTM/DTMicroscope')\n",
        "!pip install .\n",
        "os.chdir('/content/drive/My Drive/Hackathon/DTM')\n",
        "sys.path.insert(0, '/content/drive/My Drive/Hackathon/DTM/DTMicroscope')\n",
        "\n",
        "##The installation above sounds stupid and complicated. Is there a better way to install it?\n",
        "\n",
        "!pip install SciFiReaders"
      ],
      "metadata": {
        "colab": {
          "base_uri": "https://localhost:8080/"
        },
        "id": "CyPbHC3TBDcV",
        "outputId": "6f9b3611-5722-4397-a583-da42fc702d03"
      },
      "execution_count": 2,
      "outputs": [
        {
          "output_type": "stream",
          "name": "stdout",
          "text": [
            "Processing /content/drive/My Drive/Hackathon/DTM/DTMicroscope\n",
            "  Preparing metadata (setup.py) ... \u001b[?25l\u001b[?25hdone\n",
            "Building wheels for collected packages: DTMicroscope\n",
            "  Building wheel for DTMicroscope (setup.py) ... \u001b[?25l\u001b[?25hdone\n",
            "  Created wheel for DTMicroscope: filename=DTMicroscope-0.0.1-py3-none-any.whl size=27886 sha256=a514909bdad17aec85c6586a52bc031b507eb5c04e6cda2dc3b568a70f670004\n",
            "  Stored in directory: /tmp/pip-ephem-wheel-cache-jzevfirt/wheels/c2/90/14/05d0cd62fbb15668bd027cacf75a5db8d070508ad84280c10e\n",
            "Successfully built DTMicroscope\n",
            "Installing collected packages: DTMicroscope\n",
            "  Attempting uninstall: DTMicroscope\n",
            "    Found existing installation: DTMicroscope 0.0.1\n",
            "    Uninstalling DTMicroscope-0.0.1:\n",
            "      Successfully uninstalled DTMicroscope-0.0.1\n",
            "Successfully installed DTMicroscope-0.0.1\n",
            "Requirement already satisfied: SciFiReaders in /usr/local/lib/python3.10/dist-packages (0.11.6)\n",
            "Requirement already satisfied: setuptools in /usr/local/lib/python3.10/dist-packages (from SciFiReaders) (75.1.0)\n",
            "Requirement already satisfied: numpy in /usr/local/lib/python3.10/dist-packages (from SciFiReaders) (1.26.4)\n",
            "Requirement already satisfied: toolz in /usr/local/lib/python3.10/dist-packages (from SciFiReaders) (0.12.1)\n",
            "Requirement already satisfied: cytoolz in /usr/local/lib/python3.10/dist-packages (from SciFiReaders) (1.0.1)\n",
            "Requirement already satisfied: dask>=2.20.0 in /usr/local/lib/python3.10/dist-packages (from SciFiReaders) (2024.12.0)\n",
            "Requirement already satisfied: sidpy>=0.11.2 in /usr/local/lib/python3.10/dist-packages (from SciFiReaders) (0.12.6)\n",
            "Requirement already satisfied: ipython>=7.1.0 in /usr/local/lib/python3.10/dist-packages (from SciFiReaders) (7.34.0)\n",
            "Requirement already satisfied: pyUSID in /usr/local/lib/python3.10/dist-packages (from SciFiReaders) (0.0.12)\n",
            "Requirement already satisfied: gdown in /usr/local/lib/python3.10/dist-packages (from SciFiReaders) (5.2.0)\n",
            "Requirement already satisfied: mrcfile in /usr/local/lib/python3.10/dist-packages (from SciFiReaders) (1.5.3)\n",
            "Requirement already satisfied: numba>=0.59.0rc1 in /usr/local/lib/python3.10/dist-packages (from SciFiReaders) (0.60.0)\n",
            "Requirement already satisfied: click>=8.1 in /usr/local/lib/python3.10/dist-packages (from dask>=2.20.0->SciFiReaders) (8.1.7)\n",
            "Requirement already satisfied: cloudpickle>=3.0.0 in /usr/local/lib/python3.10/dist-packages (from dask>=2.20.0->SciFiReaders) (3.1.0)\n",
            "Requirement already satisfied: fsspec>=2021.09.0 in /usr/local/lib/python3.10/dist-packages (from dask>=2.20.0->SciFiReaders) (2024.10.0)\n",
            "Requirement already satisfied: packaging>=20.0 in /usr/local/lib/python3.10/dist-packages (from dask>=2.20.0->SciFiReaders) (24.2)\n",
            "Requirement already satisfied: partd>=1.4.0 in /usr/local/lib/python3.10/dist-packages (from dask>=2.20.0->SciFiReaders) (1.4.2)\n",
            "Requirement already satisfied: pyyaml>=5.3.1 in /usr/local/lib/python3.10/dist-packages (from dask>=2.20.0->SciFiReaders) (6.0.2)\n",
            "Requirement already satisfied: importlib_metadata>=4.13.0 in /usr/local/lib/python3.10/dist-packages (from dask>=2.20.0->SciFiReaders) (8.5.0)\n",
            "Requirement already satisfied: jedi>=0.16 in /usr/local/lib/python3.10/dist-packages (from ipython>=7.1.0->SciFiReaders) (0.19.2)\n",
            "Requirement already satisfied: decorator in /usr/local/lib/python3.10/dist-packages (from ipython>=7.1.0->SciFiReaders) (4.4.2)\n",
            "Requirement already satisfied: pickleshare in /usr/local/lib/python3.10/dist-packages (from ipython>=7.1.0->SciFiReaders) (0.7.5)\n",
            "Requirement already satisfied: traitlets>=4.2 in /usr/local/lib/python3.10/dist-packages (from ipython>=7.1.0->SciFiReaders) (5.7.1)\n",
            "Requirement already satisfied: prompt-toolkit!=3.0.0,!=3.0.1,<3.1.0,>=2.0.0 in /usr/local/lib/python3.10/dist-packages (from ipython>=7.1.0->SciFiReaders) (3.0.48)\n",
            "Requirement already satisfied: pygments in /usr/local/lib/python3.10/dist-packages (from ipython>=7.1.0->SciFiReaders) (2.18.0)\n",
            "Requirement already satisfied: backcall in /usr/local/lib/python3.10/dist-packages (from ipython>=7.1.0->SciFiReaders) (0.2.0)\n",
            "Requirement already satisfied: matplotlib-inline in /usr/local/lib/python3.10/dist-packages (from ipython>=7.1.0->SciFiReaders) (0.1.7)\n",
            "Requirement already satisfied: pexpect>4.3 in /usr/local/lib/python3.10/dist-packages (from ipython>=7.1.0->SciFiReaders) (4.9.0)\n",
            "Requirement already satisfied: llvmlite<0.44,>=0.43.0dev0 in /usr/local/lib/python3.10/dist-packages (from numba>=0.59.0rc1->SciFiReaders) (0.43.0)\n",
            "Requirement already satisfied: h5py>=2.6.0 in /usr/local/lib/python3.10/dist-packages (from sidpy>=0.11.2->SciFiReaders) (3.12.1)\n",
            "Requirement already satisfied: matplotlib>=2.0.0 in /usr/local/lib/python3.10/dist-packages (from sidpy>=0.11.2->SciFiReaders) (3.8.0)\n",
            "Requirement already satisfied: distributed>=2.0.0 in /usr/local/lib/python3.10/dist-packages (from sidpy>=0.11.2->SciFiReaders) (2024.12.0)\n",
            "Requirement already satisfied: psutil in /usr/local/lib/python3.10/dist-packages (from sidpy>=0.11.2->SciFiReaders) (5.9.5)\n",
            "Requirement already satisfied: joblib>=0.11.0 in /usr/local/lib/python3.10/dist-packages (from sidpy>=0.11.2->SciFiReaders) (1.4.2)\n",
            "Requirement already satisfied: ipywidgets in /usr/local/lib/python3.10/dist-packages (from sidpy>=0.11.2->SciFiReaders) (7.7.1)\n",
            "Requirement already satisfied: ipykernel in /usr/local/lib/python3.10/dist-packages (from sidpy>=0.11.2->SciFiReaders) (5.5.6)\n",
            "Requirement already satisfied: scikit-learn in /usr/local/lib/python3.10/dist-packages (from sidpy>=0.11.2->SciFiReaders) (1.5.2)\n",
            "Requirement already satisfied: scipy in /usr/local/lib/python3.10/dist-packages (from sidpy>=0.11.2->SciFiReaders) (1.13.1)\n",
            "Requirement already satisfied: ase in /usr/local/lib/python3.10/dist-packages (from sidpy>=0.11.2->SciFiReaders) (3.23.0)\n",
            "Requirement already satisfied: ipympl in /usr/local/lib/python3.10/dist-packages (from sidpy>=0.11.2->SciFiReaders) (0.9.5)\n",
            "Requirement already satisfied: dill in /usr/local/lib/python3.10/dist-packages (from sidpy>=0.11.2->SciFiReaders) (0.3.9)\n",
            "Requirement already satisfied: beautifulsoup4 in /usr/local/lib/python3.10/dist-packages (from gdown->SciFiReaders) (4.12.3)\n",
            "Requirement already satisfied: filelock in /usr/local/lib/python3.10/dist-packages (from gdown->SciFiReaders) (3.16.1)\n",
            "Requirement already satisfied: requests[socks] in /usr/local/lib/python3.10/dist-packages (from gdown->SciFiReaders) (2.32.3)\n",
            "Requirement already satisfied: tqdm in /usr/local/lib/python3.10/dist-packages (from gdown->SciFiReaders) (4.66.6)\n",
            "Requirement already satisfied: pillow in /usr/local/lib/python3.10/dist-packages (from pyUSID->SciFiReaders) (11.0.0)\n",
            "Requirement already satisfied: six in /usr/local/lib/python3.10/dist-packages (from pyUSID->SciFiReaders) (1.17.0)\n",
            "Requirement already satisfied: jinja2>=2.10.3 in /usr/local/lib/python3.10/dist-packages (from distributed>=2.0.0->sidpy>=0.11.2->SciFiReaders) (3.1.4)\n",
            "Requirement already satisfied: locket>=1.0.0 in /usr/local/lib/python3.10/dist-packages (from distributed>=2.0.0->sidpy>=0.11.2->SciFiReaders) (1.0.0)\n",
            "Requirement already satisfied: msgpack>=1.0.2 in /usr/local/lib/python3.10/dist-packages (from distributed>=2.0.0->sidpy>=0.11.2->SciFiReaders) (1.1.0)\n",
            "Requirement already satisfied: sortedcontainers>=2.0.5 in /usr/local/lib/python3.10/dist-packages (from distributed>=2.0.0->sidpy>=0.11.2->SciFiReaders) (2.4.0)\n",
            "Requirement already satisfied: tblib>=1.6.0 in /usr/local/lib/python3.10/dist-packages (from distributed>=2.0.0->sidpy>=0.11.2->SciFiReaders) (3.0.0)\n",
            "Requirement already satisfied: tornado>=6.2.0 in /usr/local/lib/python3.10/dist-packages (from distributed>=2.0.0->sidpy>=0.11.2->SciFiReaders) (6.3.3)\n",
            "Requirement already satisfied: urllib3>=1.26.5 in /usr/local/lib/python3.10/dist-packages (from distributed>=2.0.0->sidpy>=0.11.2->SciFiReaders) (2.2.3)\n",
            "Requirement already satisfied: zict>=3.0.0 in /usr/local/lib/python3.10/dist-packages (from distributed>=2.0.0->sidpy>=0.11.2->SciFiReaders) (3.0.0)\n",
            "Requirement already satisfied: zipp>=3.20 in /usr/local/lib/python3.10/dist-packages (from importlib_metadata>=4.13.0->dask>=2.20.0->SciFiReaders) (3.21.0)\n",
            "Requirement already satisfied: parso<0.9.0,>=0.8.4 in /usr/local/lib/python3.10/dist-packages (from jedi>=0.16->ipython>=7.1.0->SciFiReaders) (0.8.4)\n",
            "Requirement already satisfied: contourpy>=1.0.1 in /usr/local/lib/python3.10/dist-packages (from matplotlib>=2.0.0->sidpy>=0.11.2->SciFiReaders) (1.3.1)\n",
            "Requirement already satisfied: cycler>=0.10 in /usr/local/lib/python3.10/dist-packages (from matplotlib>=2.0.0->sidpy>=0.11.2->SciFiReaders) (0.12.1)\n",
            "Requirement already satisfied: fonttools>=4.22.0 in /usr/local/lib/python3.10/dist-packages (from matplotlib>=2.0.0->sidpy>=0.11.2->SciFiReaders) (4.55.3)\n",
            "Requirement already satisfied: kiwisolver>=1.0.1 in /usr/local/lib/python3.10/dist-packages (from matplotlib>=2.0.0->sidpy>=0.11.2->SciFiReaders) (1.4.7)\n",
            "Requirement already satisfied: pyparsing>=2.3.1 in /usr/local/lib/python3.10/dist-packages (from matplotlib>=2.0.0->sidpy>=0.11.2->SciFiReaders) (3.2.0)\n",
            "Requirement already satisfied: python-dateutil>=2.7 in /usr/local/lib/python3.10/dist-packages (from matplotlib>=2.0.0->sidpy>=0.11.2->SciFiReaders) (2.8.2)\n",
            "Requirement already satisfied: ptyprocess>=0.5 in /usr/local/lib/python3.10/dist-packages (from pexpect>4.3->ipython>=7.1.0->SciFiReaders) (0.7.0)\n",
            "Requirement already satisfied: wcwidth in /usr/local/lib/python3.10/dist-packages (from prompt-toolkit!=3.0.0,!=3.0.1,<3.1.0,>=2.0.0->ipython>=7.1.0->SciFiReaders) (0.2.13)\n",
            "Requirement already satisfied: soupsieve>1.2 in /usr/local/lib/python3.10/dist-packages (from beautifulsoup4->gdown->SciFiReaders) (2.6)\n",
            "Requirement already satisfied: ipython-genutils in /usr/local/lib/python3.10/dist-packages (from ipykernel->sidpy>=0.11.2->SciFiReaders) (0.2.0)\n",
            "Requirement already satisfied: jupyter-client in /usr/local/lib/python3.10/dist-packages (from ipykernel->sidpy>=0.11.2->SciFiReaders) (6.1.12)\n",
            "Requirement already satisfied: widgetsnbextension~=3.6.0 in /usr/local/lib/python3.10/dist-packages (from ipywidgets->sidpy>=0.11.2->SciFiReaders) (3.6.10)\n",
            "Requirement already satisfied: jupyterlab-widgets>=1.0.0 in /usr/local/lib/python3.10/dist-packages (from ipywidgets->sidpy>=0.11.2->SciFiReaders) (3.0.13)\n",
            "Requirement already satisfied: charset-normalizer<4,>=2 in /usr/local/lib/python3.10/dist-packages (from requests[socks]->gdown->SciFiReaders) (3.4.0)\n",
            "Requirement already satisfied: idna<4,>=2.5 in /usr/local/lib/python3.10/dist-packages (from requests[socks]->gdown->SciFiReaders) (3.10)\n",
            "Requirement already satisfied: certifi>=2017.4.17 in /usr/local/lib/python3.10/dist-packages (from requests[socks]->gdown->SciFiReaders) (2024.8.30)\n",
            "Requirement already satisfied: PySocks!=1.5.7,>=1.5.6 in /usr/local/lib/python3.10/dist-packages (from requests[socks]->gdown->SciFiReaders) (1.7.1)\n",
            "Requirement already satisfied: threadpoolctl>=3.1.0 in /usr/local/lib/python3.10/dist-packages (from scikit-learn->sidpy>=0.11.2->SciFiReaders) (3.5.0)\n",
            "Requirement already satisfied: MarkupSafe>=2.0 in /usr/local/lib/python3.10/dist-packages (from jinja2>=2.10.3->distributed>=2.0.0->sidpy>=0.11.2->SciFiReaders) (3.0.2)\n",
            "Requirement already satisfied: notebook>=4.4.1 in /usr/local/lib/python3.10/dist-packages (from widgetsnbextension~=3.6.0->ipywidgets->sidpy>=0.11.2->SciFiReaders) (6.5.5)\n",
            "Requirement already satisfied: jupyter-core>=4.6.0 in /usr/local/lib/python3.10/dist-packages (from jupyter-client->ipykernel->sidpy>=0.11.2->SciFiReaders) (5.7.2)\n",
            "Requirement already satisfied: pyzmq>=13 in /usr/local/lib/python3.10/dist-packages (from jupyter-client->ipykernel->sidpy>=0.11.2->SciFiReaders) (24.0.1)\n",
            "Requirement already satisfied: platformdirs>=2.5 in /usr/local/lib/python3.10/dist-packages (from jupyter-core>=4.6.0->jupyter-client->ipykernel->sidpy>=0.11.2->SciFiReaders) (4.3.6)\n",
            "Requirement already satisfied: argon2-cffi in /usr/local/lib/python3.10/dist-packages (from notebook>=4.4.1->widgetsnbextension~=3.6.0->ipywidgets->sidpy>=0.11.2->SciFiReaders) (23.1.0)\n",
            "Requirement already satisfied: nbformat in /usr/local/lib/python3.10/dist-packages (from notebook>=4.4.1->widgetsnbextension~=3.6.0->ipywidgets->sidpy>=0.11.2->SciFiReaders) (5.10.4)\n",
            "Requirement already satisfied: nbconvert>=5 in /usr/local/lib/python3.10/dist-packages (from notebook>=4.4.1->widgetsnbextension~=3.6.0->ipywidgets->sidpy>=0.11.2->SciFiReaders) (7.16.4)\n",
            "Requirement already satisfied: nest-asyncio>=1.5 in /usr/local/lib/python3.10/dist-packages (from notebook>=4.4.1->widgetsnbextension~=3.6.0->ipywidgets->sidpy>=0.11.2->SciFiReaders) (1.6.0)\n",
            "Requirement already satisfied: Send2Trash>=1.8.0 in /usr/local/lib/python3.10/dist-packages (from notebook>=4.4.1->widgetsnbextension~=3.6.0->ipywidgets->sidpy>=0.11.2->SciFiReaders) (1.8.3)\n",
            "Requirement already satisfied: terminado>=0.8.3 in /usr/local/lib/python3.10/dist-packages (from notebook>=4.4.1->widgetsnbextension~=3.6.0->ipywidgets->sidpy>=0.11.2->SciFiReaders) (0.18.1)\n",
            "Requirement already satisfied: prometheus-client in /usr/local/lib/python3.10/dist-packages (from notebook>=4.4.1->widgetsnbextension~=3.6.0->ipywidgets->sidpy>=0.11.2->SciFiReaders) (0.21.1)\n",
            "Requirement already satisfied: nbclassic>=0.4.7 in /usr/local/lib/python3.10/dist-packages (from notebook>=4.4.1->widgetsnbextension~=3.6.0->ipywidgets->sidpy>=0.11.2->SciFiReaders) (1.1.0)\n",
            "Requirement already satisfied: notebook-shim>=0.2.3 in /usr/local/lib/python3.10/dist-packages (from nbclassic>=0.4.7->notebook>=4.4.1->widgetsnbextension~=3.6.0->ipywidgets->sidpy>=0.11.2->SciFiReaders) (0.2.4)\n",
            "Requirement already satisfied: bleach!=5.0.0 in /usr/local/lib/python3.10/dist-packages (from nbconvert>=5->notebook>=4.4.1->widgetsnbextension~=3.6.0->ipywidgets->sidpy>=0.11.2->SciFiReaders) (6.2.0)\n",
            "Requirement already satisfied: defusedxml in /usr/local/lib/python3.10/dist-packages (from nbconvert>=5->notebook>=4.4.1->widgetsnbextension~=3.6.0->ipywidgets->sidpy>=0.11.2->SciFiReaders) (0.7.1)\n",
            "Requirement already satisfied: jupyterlab-pygments in /usr/local/lib/python3.10/dist-packages (from nbconvert>=5->notebook>=4.4.1->widgetsnbextension~=3.6.0->ipywidgets->sidpy>=0.11.2->SciFiReaders) (0.3.0)\n",
            "Requirement already satisfied: mistune<4,>=2.0.3 in /usr/local/lib/python3.10/dist-packages (from nbconvert>=5->notebook>=4.4.1->widgetsnbextension~=3.6.0->ipywidgets->sidpy>=0.11.2->SciFiReaders) (3.0.2)\n",
            "Requirement already satisfied: nbclient>=0.5.0 in /usr/local/lib/python3.10/dist-packages (from nbconvert>=5->notebook>=4.4.1->widgetsnbextension~=3.6.0->ipywidgets->sidpy>=0.11.2->SciFiReaders) (0.10.1)\n",
            "Requirement already satisfied: pandocfilters>=1.4.1 in /usr/local/lib/python3.10/dist-packages (from nbconvert>=5->notebook>=4.4.1->widgetsnbextension~=3.6.0->ipywidgets->sidpy>=0.11.2->SciFiReaders) (1.5.1)\n",
            "Requirement already satisfied: tinycss2 in /usr/local/lib/python3.10/dist-packages (from nbconvert>=5->notebook>=4.4.1->widgetsnbextension~=3.6.0->ipywidgets->sidpy>=0.11.2->SciFiReaders) (1.4.0)\n",
            "Requirement already satisfied: fastjsonschema>=2.15 in /usr/local/lib/python3.10/dist-packages (from nbformat->notebook>=4.4.1->widgetsnbextension~=3.6.0->ipywidgets->sidpy>=0.11.2->SciFiReaders) (2.21.1)\n",
            "Requirement already satisfied: jsonschema>=2.6 in /usr/local/lib/python3.10/dist-packages (from nbformat->notebook>=4.4.1->widgetsnbextension~=3.6.0->ipywidgets->sidpy>=0.11.2->SciFiReaders) (4.23.0)\n",
            "Requirement already satisfied: argon2-cffi-bindings in /usr/local/lib/python3.10/dist-packages (from argon2-cffi->notebook>=4.4.1->widgetsnbextension~=3.6.0->ipywidgets->sidpy>=0.11.2->SciFiReaders) (21.2.0)\n",
            "Requirement already satisfied: webencodings in /usr/local/lib/python3.10/dist-packages (from bleach!=5.0.0->nbconvert>=5->notebook>=4.4.1->widgetsnbextension~=3.6.0->ipywidgets->sidpy>=0.11.2->SciFiReaders) (0.5.1)\n",
            "Requirement already satisfied: attrs>=22.2.0 in /usr/local/lib/python3.10/dist-packages (from jsonschema>=2.6->nbformat->notebook>=4.4.1->widgetsnbextension~=3.6.0->ipywidgets->sidpy>=0.11.2->SciFiReaders) (24.2.0)\n",
            "Requirement already satisfied: jsonschema-specifications>=2023.03.6 in /usr/local/lib/python3.10/dist-packages (from jsonschema>=2.6->nbformat->notebook>=4.4.1->widgetsnbextension~=3.6.0->ipywidgets->sidpy>=0.11.2->SciFiReaders) (2024.10.1)\n",
            "Requirement already satisfied: referencing>=0.28.4 in /usr/local/lib/python3.10/dist-packages (from jsonschema>=2.6->nbformat->notebook>=4.4.1->widgetsnbextension~=3.6.0->ipywidgets->sidpy>=0.11.2->SciFiReaders) (0.35.1)\n",
            "Requirement already satisfied: rpds-py>=0.7.1 in /usr/local/lib/python3.10/dist-packages (from jsonschema>=2.6->nbformat->notebook>=4.4.1->widgetsnbextension~=3.6.0->ipywidgets->sidpy>=0.11.2->SciFiReaders) (0.22.3)\n",
            "Requirement already satisfied: jupyter-server<3,>=1.8 in /usr/local/lib/python3.10/dist-packages (from notebook-shim>=0.2.3->nbclassic>=0.4.7->notebook>=4.4.1->widgetsnbextension~=3.6.0->ipywidgets->sidpy>=0.11.2->SciFiReaders) (1.24.0)\n",
            "Requirement already satisfied: cffi>=1.0.1 in /usr/local/lib/python3.10/dist-packages (from argon2-cffi-bindings->argon2-cffi->notebook>=4.4.1->widgetsnbextension~=3.6.0->ipywidgets->sidpy>=0.11.2->SciFiReaders) (1.17.1)\n",
            "Requirement already satisfied: pycparser in /usr/local/lib/python3.10/dist-packages (from cffi>=1.0.1->argon2-cffi-bindings->argon2-cffi->notebook>=4.4.1->widgetsnbextension~=3.6.0->ipywidgets->sidpy>=0.11.2->SciFiReaders) (2.22)\n",
            "Requirement already satisfied: anyio<4,>=3.1.0 in /usr/local/lib/python3.10/dist-packages (from jupyter-server<3,>=1.8->notebook-shim>=0.2.3->nbclassic>=0.4.7->notebook>=4.4.1->widgetsnbextension~=3.6.0->ipywidgets->sidpy>=0.11.2->SciFiReaders) (3.7.1)\n",
            "Requirement already satisfied: websocket-client in /usr/local/lib/python3.10/dist-packages (from jupyter-server<3,>=1.8->notebook-shim>=0.2.3->nbclassic>=0.4.7->notebook>=4.4.1->widgetsnbextension~=3.6.0->ipywidgets->sidpy>=0.11.2->SciFiReaders) (1.8.0)\n",
            "Requirement already satisfied: sniffio>=1.1 in /usr/local/lib/python3.10/dist-packages (from anyio<4,>=3.1.0->jupyter-server<3,>=1.8->notebook-shim>=0.2.3->nbclassic>=0.4.7->notebook>=4.4.1->widgetsnbextension~=3.6.0->ipywidgets->sidpy>=0.11.2->SciFiReaders) (1.3.1)\n",
            "Requirement already satisfied: exceptiongroup in /usr/local/lib/python3.10/dist-packages (from anyio<4,>=3.1.0->jupyter-server<3,>=1.8->notebook-shim>=0.2.3->nbclassic>=0.4.7->notebook>=4.4.1->widgetsnbextension~=3.6.0->ipywidgets->sidpy>=0.11.2->SciFiReaders) (1.2.2)\n"
          ]
        }
      ]
    },
    {
      "cell_type": "code",
      "source": [
        "import SciFiReaders\n",
        "from DTMicroscope.base import BaseMicroscope\n",
        "from glob import glob\n",
        "import matplotlib.pyplot as plt\n",
        "import numpy as np\n",
        "import time\n",
        "import cv2\n",
        "from IPython.display import display, clear_output\n",
        "from tensorflow.keras.models import load_model\n",
        "import Contour_analysis\n",
        "import segmentation_function\n",
        "import iterativeclustering\n",
        "\n",
        "class TEM(BaseMicroscope):\n",
        "  \"\"\"I rewrote a new BaseMicroscope class for TEM data\"\"\"\n",
        "  def __init__(self, data_path = None) -> None:\n",
        "    super().__init__(data_path=data_path)\n",
        "    #self._load_dataset_ram()\n",
        "\n",
        "  def _sort_datasets(self):\n",
        "      self.data_dict = glob(self.data_path + '*.dm4')\n",
        "\n",
        "  def _load_dataset_ram(self):\n",
        "      self.dataset = []\n",
        "      for file in self.data_dict:\n",
        "        reader = SciFiReaders.DM3Reader(file)\n",
        "        self.dataset.append(reader.read())\n",
        "      return\n",
        "\n",
        "def split_image(image):\n",
        "    \"\"\"\n",
        "    Splits a (2048, 2048) numpy array into 16 (512, 512) sub-images.\n",
        "\n",
        "    Parameters:\n",
        "        image (numpy.ndarray): Input image of shape (2048, 2048), dtype=float.\n",
        "\n",
        "    Returns:\n",
        "        numpy.ndarray: Array of shape (16, 512, 512), dtype=float, containing the sub-images.\n",
        "    \"\"\"\n",
        "    if image.shape != (2048, 2048):\n",
        "        raise ValueError(\"Input image must have shape (2048, 2048).\")\n",
        "    image = image.astype(np.float32)\n",
        "    lb = np.percentile(image,0.8)\n",
        "    ub = np.percentile(image,99.2)\n",
        "    image = (image - lb) / (ub - lb)\n",
        "    image[image < 0] = 0\n",
        "    image[image > 1] = 1\n",
        "    image = cv2.GaussianBlur(image, ksize=(0, 0), sigmaX=2, sigmaY=2)\n",
        "    # Initialize output array to store 16 (512, 512) images\n",
        "    sub_images = np.zeros((16, 512, 512), dtype=image.dtype)\n",
        "\n",
        "    # Split the image into 512x512 chunks\n",
        "    idx = 0\n",
        "    for i in range(0, 2048, 512):\n",
        "        for j in range(0, 2048, 512):\n",
        "            sub_images[idx] = image[i:i+512, j:j+512]\n",
        "            idx += 1\n",
        "    return sub_images\n",
        "\n",
        "def stitch_images(sub_images):\n",
        "  image = np.zeros((2048,2048))\n",
        "  idx = 0\n",
        "  for i in range(0, 2048, 512):\n",
        "    for j in range(0, 2048, 512):\n",
        "      image[i:i+512, j:j+512] = np.argmax(sub_images[idx],axis = 2)\n",
        "      idx += 1\n",
        "  return image\n",
        "\n",
        "def get_stats(analyzer_results):\n",
        "  areas = np.array([x['area'] for x in analyzer_results])\n",
        "  aspect_ratio = np.array([x['aspect_ratio'] for x in analyzer_results])\n",
        "  eccentricity = np.array([x['eccentricity'] for x in analyzer_results])\n",
        "  convexity = np.array([x['convexity'] for x in analyzer_results])\n",
        "  return np.stack((areas,aspect_ratio,eccentricity,convexity),axis = 1)\n",
        "\n",
        "def filter(analyzer_results):\n",
        "  convexity = np.array([x['convexity'] for x in analyzer_results])\n",
        "  solidity = np.array([x['solidity'] for x in analyzer_results])\n",
        "  mask = np.logical_and(convexity>0.9, solidity>0.95)\n",
        "  return np.array(analyzer_results)[mask].tolist(), mask"
      ],
      "metadata": {
        "colab": {
          "base_uri": "https://localhost:8080/"
        },
        "id": "SlIaWK-K7mv8",
        "outputId": "3e7d1f32-b14b-421b-fecd-0bf32b970497"
      },
      "execution_count": 3,
      "outputs": [
        {
          "output_type": "stream",
          "name": "stdout",
          "text": [
            "You don't have igor2 installed.     If you wish to open igor files, you will need to install it     (pip install igor2) before attempting.\n",
            "You don't have gwyfile installed.     If you wish to open .gwy files, you will need to      install it (pip install gwyfile) before attempting.\n"
          ]
        }
      ]
    },
    {
      "cell_type": "code",
      "source": [
        "model = load_model('model.keras')\n",
        "M = TEM(\"test_data/\")\n",
        "M._load_dataset_ram()"
      ],
      "metadata": {
        "id": "ik9O9d_DnuBg"
      },
      "execution_count": 4,
      "outputs": []
    },
    {
      "cell_type": "code",
      "source": [
        "np.seterr(all=\"ignore\")\n",
        "analyzer = Contour_analysis.ContourAnalyzer()\n",
        "iterativecluster = iterativeclustering.iterativeclustering()\n",
        "t0 = time.time()\n",
        "color = np.concatenate((np.expand_dims(np.array([0,0,1]), axis = 0), np.expand_dims(np.array([0,1,0]), axis = 0), np.expand_dims(np.array([1,0,0]), axis = 0) , np.random.rand(10,3)), axis = 0)\n",
        "binE = np.arange(-1,1.05,0.05)\n",
        "binC = (binE[:-1]+binE[1:])/2\n",
        "\n",
        "for itr in range(30):\n",
        "  '''this for loop mimics the continous viewing mode on TEM'''\n",
        "\n",
        "  data = M.dataset[np.mod(itr,len(M.dataset))]\n",
        "  t = time.time()\n",
        "  data_np = data['Channel_000'].compute()\n",
        "  data_np = cv2.resize(data_np,(2048,2048))\n",
        "  data_fplot = cv2.resize(data_np,(512,512))\n",
        "\n",
        "  '''make predictions'''\n",
        "  data_sub = split_image(data_np)\n",
        "  predictions = model.predict(data_sub, batch_size=1, verbose=0)\n",
        "  data_pred = stitch_images(predictions)\n",
        "  Bs = segmentation_function.process_image(data_pred/2*255)\n",
        "  N = len(Bs)\n",
        "\n",
        "  '''do some statistic'''\n",
        "  for B in Bs:\n",
        "    analyzer.all_properties.append(analyzer.analyze_single_contour(B))\n",
        "  results_filtered, mask = filter(analyzer.all_properties)\n",
        "  Bs = Bs[mask[-N:]]\n",
        "\n",
        "  stats = get_stats(results_filtered)\n",
        "  stats_norm = iterativecluster.norm(stats)\n",
        "\n",
        "  '''do clustering'''\n",
        "  opt_results, step_results = iterativecluster.iterativeclustering(stats_norm, 3)\n",
        "  label = opt_results[\"classes\"]\n",
        "  valuesA = []; valuesB = []; valuesC = []; valuesD = []\n",
        "  for i in range(np.max(label)+1):\n",
        "    value,_ = np.histogram(stats_norm[label==i,0], bins= binE)\n",
        "    valuesA.append(value)\n",
        "    value,_ = np.histogram(stats_norm[label==i,1], bins= binE)\n",
        "    valuesB.append(value)\n",
        "    value,_ = np.histogram(stats_norm[label==i,2], bins= binE)\n",
        "    valuesC.append(value)\n",
        "    value,_ = np.histogram(stats_norm[label==i,3], bins= binE)\n",
        "    valuesD.append(value)\n",
        "\n",
        "  '''plotting'''\n",
        "  f,axs = plt.subplots(2,3, figsize = (9,6))\n",
        "  axs[0][0].imshow(data_fplot,cmap = 'gray')\n",
        "  axs[0][0].set_title('Original')\n",
        "  axs[0][0].text(50,50,'FPS: ' + '{:.2f}'.format(1/(t-t0)))\n",
        "\n",
        "  axs[0][1].imshow(data_fplot,cmap = 'gray')\n",
        "\n",
        "  itr = 0\n",
        "  for B in Bs:\n",
        "    axs[0][1].plot(np.concatenate((B[:,0],B[:2,0])),np.concatenate((B[:,1],B[:2,1])), linewidth = 1, color = color[label[itr],:])\n",
        "    itr += 1\n",
        "  axs[0][1].set_title('Contours')\n",
        "\n",
        "  for i in range(np.max(label)+1):\n",
        "    axs[0][2].bar(binC, valuesA[i], color = color[i,:], width=0.04, alpha = 0.1)\n",
        "    axs[1][0].bar(binC, valuesB[i], color = color[i,:], width=0.04, alpha = 0.1)\n",
        "    axs[1][1].bar(binC, valuesC[i], color = color[i,:], width=0.04, alpha = 0.1)\n",
        "    axs[1][2].bar(binC, valuesD[i], color = color[i,:], width=0.04, alpha = 0.1)\n",
        "\n",
        "  axs[0][2].set_title('Area')\n",
        "  axs[0][2].legend(labels=['Group ' + str(x) for x in range(np.max(label)+1)])\n",
        "  axs[0][2].set_box_aspect(1)\n",
        "\n",
        "  axs[1][0].set_title('Aspect ratio')\n",
        "  axs[1][0].legend(labels=['Group ' + str(x) for x in range(np.max(label)+1)])\n",
        "  axs[1][0].set_box_aspect(1)\n",
        "\n",
        "  axs[1][1].set_title('Eccentricity')\n",
        "  axs[1][1].legend(labels=['Group ' + str(x) for x in range(np.max(label)+1)])\n",
        "  axs[1][1].set_box_aspect(1)\n",
        "\n",
        "  axs[1][2].set_title('Convexity')\n",
        "  axs[1][2].legend(labels=['Group ' + str(x) for x in range(np.max(label)+1)])\n",
        "  axs[1][2].set_box_aspect(1)\n",
        "  t0 = time.time()\n",
        "  plt.show()\n",
        "  time.sleep(0.1)\n",
        "  clear_output(wait=True)"
      ],
      "metadata": {
        "colab": {
          "base_uri": "https://localhost:8080/",
          "height": 356
        },
        "id": "KGLqMrVhEOxx",
        "outputId": "80f76b53-413a-4ed2-ada6-605c9a8f7931"
      },
      "execution_count": 21,
      "outputs": [
        {
          "output_type": "error",
          "ename": "IndexError",
          "evalue": "index 1 is out of bounds for axis 0 with size 1",
          "traceback": [
            "\u001b[0;31m---------------------------------------------------------------------------\u001b[0m",
            "\u001b[0;31mIndexError\u001b[0m                                Traceback (most recent call last)",
            "\u001b[0;32m<ipython-input-21-25be500fbb38>\u001b[0m in \u001b[0;36m<cell line: 9>\u001b[0;34m()\u001b[0m\n\u001b[1;32m     33\u001b[0m \u001b[0;34m\u001b[0m\u001b[0m\n\u001b[1;32m     34\u001b[0m   \u001b[0;34m'''do clustering'''\u001b[0m\u001b[0;34m\u001b[0m\u001b[0;34m\u001b[0m\u001b[0m\n\u001b[0;32m---> 35\u001b[0;31m   \u001b[0mopt_results\u001b[0m\u001b[0;34m,\u001b[0m \u001b[0mstep_results\u001b[0m \u001b[0;34m=\u001b[0m \u001b[0miterativecluster\u001b[0m\u001b[0;34m.\u001b[0m\u001b[0miterativeclustering\u001b[0m\u001b[0;34m(\u001b[0m\u001b[0mstats_norm\u001b[0m\u001b[0;34m,\u001b[0m \u001b[0;36m3\u001b[0m\u001b[0;34m)\u001b[0m\u001b[0;34m\u001b[0m\u001b[0;34m\u001b[0m\u001b[0m\n\u001b[0m\u001b[1;32m     36\u001b[0m   \u001b[0mlabel\u001b[0m \u001b[0;34m=\u001b[0m \u001b[0mopt_results\u001b[0m\u001b[0;34m[\u001b[0m\u001b[0;34m\"classes\"\u001b[0m\u001b[0;34m]\u001b[0m\u001b[0;34m\u001b[0m\u001b[0;34m\u001b[0m\u001b[0m\n\u001b[1;32m     37\u001b[0m   \u001b[0mvaluesA\u001b[0m \u001b[0;34m=\u001b[0m \u001b[0;34m[\u001b[0m\u001b[0;34m]\u001b[0m\u001b[0;34m;\u001b[0m \u001b[0mvaluesB\u001b[0m \u001b[0;34m=\u001b[0m \u001b[0;34m[\u001b[0m\u001b[0;34m]\u001b[0m\u001b[0;34m;\u001b[0m \u001b[0mvaluesC\u001b[0m \u001b[0;34m=\u001b[0m \u001b[0;34m[\u001b[0m\u001b[0;34m]\u001b[0m\u001b[0;34m;\u001b[0m \u001b[0mvaluesD\u001b[0m \u001b[0;34m=\u001b[0m \u001b[0;34m[\u001b[0m\u001b[0;34m]\u001b[0m\u001b[0;34m\u001b[0m\u001b[0;34m\u001b[0m\u001b[0m\n",
            "\u001b[0;32m/content/drive/My Drive/Hackathon/DTM/iterativeclustering.py\u001b[0m in \u001b[0;36miterativeclustering\u001b[0;34m(self, data, n)\u001b[0m\n\u001b[1;32m    291\u001b[0m                     \u001b[0;31m# Perform sub-clustering on data belonging to class i\u001b[0m\u001b[0;34m\u001b[0m\u001b[0;34m\u001b[0m\u001b[0m\n\u001b[1;32m    292\u001b[0m                     \u001b[0mdata_sub\u001b[0m \u001b[0;34m=\u001b[0m \u001b[0mdata\u001b[0m\u001b[0;34m[\u001b[0m\u001b[0mclustering\u001b[0m\u001b[0;34m.\u001b[0m\u001b[0mclasses\u001b[0m \u001b[0;34m==\u001b[0m \u001b[0mi\u001b[0m\u001b[0;34m]\u001b[0m\u001b[0;34m\u001b[0m\u001b[0;34m\u001b[0m\u001b[0m\n\u001b[0;32m--> 293\u001b[0;31m                     \u001b[0msub_clustering\u001b[0m\u001b[0;34m[\u001b[0m\u001b[0mi\u001b[0m \u001b[0;34m-\u001b[0m \u001b[0;36m1\u001b[0m\u001b[0;34m]\u001b[0m \u001b[0;34m=\u001b[0m \u001b[0mself\u001b[0m\u001b[0;34m.\u001b[0m\u001b[0mP_clustering\u001b[0m\u001b[0;34m(\u001b[0m\u001b[0mdata_sub\u001b[0m\u001b[0;34m)\u001b[0m\u001b[0;34m\u001b[0m\u001b[0;34m\u001b[0m\u001b[0m\n\u001b[0m\u001b[1;32m    294\u001b[0m \u001b[0;34m\u001b[0m\u001b[0m\n\u001b[1;32m    295\u001b[0m                     \u001b[0;31m# Check conditions to decide whether to split the cluster further\u001b[0m\u001b[0;34m\u001b[0m\u001b[0;34m\u001b[0m\u001b[0m\n",
            "\u001b[0;32m/content/drive/My Drive/Hackathon/DTM/iterativeclustering.py\u001b[0m in \u001b[0;36mP_clustering\u001b[0;34m(self, data)\u001b[0m\n\u001b[1;32m    211\u001b[0m \u001b[0;34m\u001b[0m\u001b[0m\n\u001b[1;32m    212\u001b[0m                 \u001b[0;31m# Compute and store the probability matrix\u001b[0m\u001b[0;34m\u001b[0m\u001b[0;34m\u001b[0m\u001b[0m\n\u001b[0;32m--> 213\u001b[0;31m                 \u001b[0mP_mat\u001b[0m\u001b[0;34m[\u001b[0m\u001b[0mk_idx\u001b[0m\u001b[0;34m]\u001b[0m\u001b[0;34m[\u001b[0m\u001b[0mcnt\u001b[0m\u001b[0;34m]\u001b[0m \u001b[0;34m=\u001b[0m \u001b[0mself\u001b[0m\u001b[0;34m.\u001b[0m\u001b[0mP_matrix\u001b[0m\u001b[0;34m(\u001b[0m\u001b[0mdata\u001b[0m\u001b[0;34m,\u001b[0m \u001b[0mclass_idx_em_temp\u001b[0m\u001b[0;34m,\u001b[0m \u001b[0mparams\u001b[0m\u001b[0;34m)\u001b[0m\u001b[0;34m\u001b[0m\u001b[0;34m\u001b[0m\u001b[0m\n\u001b[0m\u001b[1;32m    214\u001b[0m \u001b[0;34m\u001b[0m\u001b[0m\n\u001b[1;32m    215\u001b[0m                 \u001b[0;31m# Compute and store P_max\u001b[0m\u001b[0;34m\u001b[0m\u001b[0;34m\u001b[0m\u001b[0m\n",
            "\u001b[0;32m/content/drive/My Drive/Hackathon/DTM/iterativeclustering.py\u001b[0m in \u001b[0;36mP_matrix\u001b[0;34m(self, data, labels, params)\u001b[0m\n\u001b[1;32m    143\u001b[0m \u001b[0;34m\u001b[0m\u001b[0m\n\u001b[1;32m    144\u001b[0m             \u001b[0;31m# Compute Pii: mean of PDF values for data_i using class i's parameters\u001b[0m\u001b[0;34m\u001b[0m\u001b[0;34m\u001b[0m\u001b[0m\n\u001b[0;32m--> 145\u001b[0;31m             \u001b[0mcov_i\u001b[0m \u001b[0;34m=\u001b[0m \u001b[0mnp\u001b[0m\u001b[0;34m.\u001b[0m\u001b[0mdiag\u001b[0m\u001b[0;34m(\u001b[0m\u001b[0mparams\u001b[0m\u001b[0;34m.\u001b[0m\u001b[0msigma\u001b[0m\u001b[0;34m[\u001b[0m\u001b[0mi\u001b[0m\u001b[0;34m]\u001b[0m\u001b[0;34m)\u001b[0m\u001b[0;34m\u001b[0m\u001b[0;34m\u001b[0m\u001b[0m\n\u001b[0m\u001b[1;32m    146\u001b[0m             \u001b[0;31m# if np.any(params.sigma[i] == 0):\u001b[0m\u001b[0;34m\u001b[0m\u001b[0;34m\u001b[0m\u001b[0m\n\u001b[1;32m    147\u001b[0m             \u001b[0;31m#     raise ValueError(f\"Standard deviation for class {i} has zero(s), leading to singular covariance matrix.\")\u001b[0m\u001b[0;34m\u001b[0m\u001b[0;34m\u001b[0m\u001b[0m\n",
            "\u001b[0;31mIndexError\u001b[0m: index 1 is out of bounds for axis 0 with size 1"
          ]
        }
      ]
    }
  ],
  "metadata": {
    "colab": {
      "provenance": [],
      "gpuType": "T4"
    },
    "kernelspec": {
      "display_name": "Python 3",
      "name": "python3"
    },
    "language_info": {
      "name": "python"
    },
    "accelerator": "GPU"
  },
  "nbformat": 4,
  "nbformat_minor": 0
}