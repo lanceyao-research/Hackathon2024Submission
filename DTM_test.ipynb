{
  "cells": [
    {
      "cell_type": "code",
      "execution_count": 1,
      "metadata": {
        "colab": {
          "base_uri": "https://localhost:8080/"
        },
        "id": "1YM6e7bx1h-5",
        "outputId": "ac5e17a4-7902-4182-d551-8d01a3c89420"
      },
      "outputs": [
        {
          "output_type": "stream",
          "name": "stdout",
          "text": [
            "Mounted at /content/drive\n"
          ]
        },
        {
          "output_type": "execute_result",
          "data": {
            "text/plain": [
              "['DTMicroscope', 'test_data', 'model.keras', 'DTM_test.ipynb']"
            ]
          },
          "metadata": {},
          "execution_count": 1
        }
      ],
      "source": [
        "#cd to the script folder\n",
        "from google.colab import drive\n",
        "import os\n",
        "import sys\n",
        "import gdown\n",
        "\n",
        "drive.mount('/content/drive', force_remount=True)\n",
        "os.chdir('/content/drive/My Drive/Hackathon/DTM') #Need to change the address to where your script is\n",
        "os.listdir('.')"
      ]
    },
    {
      "cell_type": "code",
      "execution_count": null,
      "metadata": {
        "colab": {
          "base_uri": "https://localhost:8080/"
        },
        "id": "1kADgsEp45WH",
        "outputId": "4dbea53d-b194-4f3c-c6d5-e384195f7f32"
      },
      "outputs": [
        {
          "name": "stdout",
          "output_type": "stream",
          "text": [
            "Cloning into 'DTMicroscope'...\n",
            "remote: Enumerating objects: 921, done.\u001b[K\n",
            "remote: Counting objects: 100% (95/95), done.\u001b[K\n",
            "remote: Compressing objects: 100% (83/83), done.\u001b[K\n",
            "remote: Total 921 (delta 23), reused 39 (delta 11), pack-reused 826 (from 1)\u001b[K\n",
            "Receiving objects: 100% (921/921), 239.17 MiB | 17.13 MiB/s, done.\n",
            "Resolving deltas: 100% (522/522), done.\n",
            "Updating files: 100% (87/87), done.\n"
          ]
        }
      ],
      "source": [
        "'''download necessary data and packages'''\n",
        "!git clone https://github.com/pycroscopy/DTMicroscope.git                                                                  #DTM\n",
        "gdown.download_folder('https://drive.google.com/drive/folders/17F3iXxnb5I5tktyEW_et5iK9yJGhU_Lj?usp=sharing', quiet=True)  #dataset\n",
        "gdown.download('https://drive.google.com/uc?id=1UQnigKw8o7psh3oIhRATAy4FNXTkbldL', quiet=True)                             #model#"
      ]
    },
    {
      "cell_type": "code",
      "source": [
        "'''Instal packages'''\n",
        "os.chdir('/content/drive/My Drive/Hackathon/DTM/DTMicroscope')\n",
        "!pip install .\n",
        "os.chdir('/content/drive/My Drive/Hackathon/DTM')\n",
        "sys.path.insert(0, '/content/drive/My Drive/Hackathon/DTM/DTMicroscope')\n",
        "\n",
        "##The installation above sounds stupid and complicated. Is there a better way to install it?\n",
        "\n",
        "#!pip install SciFiReaders\n",
        "#!pip install pyNSID"
      ],
      "metadata": {
        "colab": {
          "base_uri": "https://localhost:8080/"
        },
        "id": "CyPbHC3TBDcV",
        "outputId": "732eb3fb-0293-4d31-e5da-485ecf6038d5"
      },
      "execution_count": 2,
      "outputs": [
        {
          "output_type": "stream",
          "name": "stdout",
          "text": [
            "Processing /content/drive/My Drive/Hackathon/DTM/DTMicroscope\n",
            "  Preparing metadata (setup.py) ... \u001b[?25l\u001b[?25hdone\n",
            "Building wheels for collected packages: DTMicroscope\n",
            "  Building wheel for DTMicroscope (setup.py) ... \u001b[?25l\u001b[?25hdone\n",
            "  Created wheel for DTMicroscope: filename=DTMicroscope-0.0.1-py3-none-any.whl size=27886 sha256=e0eed19e2162bc907386d735e6cf091960017357d9b97841b4c2c222385426f4\n",
            "  Stored in directory: /tmp/pip-ephem-wheel-cache-o0mbq_94/wheels/c2/90/14/05d0cd62fbb15668bd027cacf75a5db8d070508ad84280c10e\n",
            "Successfully built DTMicroscope\n",
            "Installing collected packages: DTMicroscope\n",
            "  Attempting uninstall: DTMicroscope\n",
            "    Found existing installation: DTMicroscope 0.0.1\n",
            "    Uninstalling DTMicroscope-0.0.1:\n",
            "      Successfully uninstalled DTMicroscope-0.0.1\n",
            "Successfully installed DTMicroscope-0.0.1\n"
          ]
        }
      ]
    },
    {
      "cell_type": "code",
      "source": [
        "import SciFiReaders\n",
        "import pyNSID\n",
        "from DTMicroscope.base import BaseMicroscope\n",
        "from glob import glob\n",
        "import matplotlib.pyplot as plt\n",
        "import numpy as np\n",
        "import time\n",
        "import cv2\n",
        "from IPython.display import display, clear_output\n",
        "from tensorflow.keras.models import load_model\n",
        "\n",
        "class TEM(BaseMicroscope):\n",
        "  \"\"\"I rewrote a new BaseMicroscope class for TEM data\"\"\"\n",
        "  def __init__(self, data_path = None) -> None:\n",
        "    super().__init__(data_path=data_path)\n",
        "    #self._load_dataset_ram()\n",
        "\n",
        "  def _sort_datasets(self):\n",
        "      self.data_dict = glob(self.data_path + '*.dm4')\n",
        "\n",
        "  def _load_dataset_ram(self):\n",
        "      self.dataset = []\n",
        "      for file in self.data_dict:\n",
        "        reader = SciFiReaders.DM3Reader(file)\n",
        "        self.dataset.append(reader.read())\n",
        "      return\n",
        "\n",
        "def split_image(image):\n",
        "    \"\"\"\n",
        "    Splits a (2048, 2048) numpy array into 16 (512, 512) sub-images.\n",
        "\n",
        "    Parameters:\n",
        "        image (numpy.ndarray): Input image of shape (2048, 2048), dtype=float.\n",
        "\n",
        "    Returns:\n",
        "        numpy.ndarray: Array of shape (16, 512, 512), dtype=float, containing the sub-images.\n",
        "    \"\"\"\n",
        "    if image.shape != (2048, 2048):\n",
        "        raise ValueError(\"Input image must have shape (2048, 2048).\")\n",
        "    image = image.astype(np.float32)\n",
        "    lb = np.percentile(image,0.8)\n",
        "    ub = np.percentile(image,99.2)\n",
        "    image = (image - lb) / (ub - lb)\n",
        "    image[image < 0] = 0\n",
        "    image[image > 1] = 1\n",
        "    image = cv2.GaussianBlur(image, ksize=(0, 0), sigmaX=2, sigmaY=2)\n",
        "    # Initialize output array to store 16 (512, 512) images\n",
        "    sub_images = np.zeros((16, 512, 512), dtype=image.dtype)\n",
        "\n",
        "    # Split the image into 512x512 chunks\n",
        "    idx = 0\n",
        "    for i in range(0, 2048, 512):\n",
        "        for j in range(0, 2048, 512):\n",
        "            sub_images[idx] = image[i:i+512, j:j+512]\n",
        "            idx += 1\n",
        "    return sub_images\n",
        "\n",
        "def stitch_images(sub_images):\n",
        "  image = np.zeros((2048,2048))\n",
        "  idx = 0\n",
        "  for i in range(0, 2048, 512):\n",
        "    for j in range(0, 2048, 512):\n",
        "      image[i:i+512, j:j+512] = np.argmax(sub_images[idx],axis = 2)\n",
        "      idx += 1\n",
        "  return image"
      ],
      "metadata": {
        "colab": {
          "base_uri": "https://localhost:8080/"
        },
        "id": "SlIaWK-K7mv8",
        "outputId": "a23047d2-a575-43bf-8a47-85276051a317"
      },
      "execution_count": 3,
      "outputs": [
        {
          "output_type": "stream",
          "name": "stdout",
          "text": [
            "You don't have igor2 installed.     If you wish to open igor files, you will need to install it     (pip install igor2) before attempting.\n",
            "You don't have gwyfile installed.     If you wish to open .gwy files, you will need to      install it (pip install gwyfile) before attempting.\n"
          ]
        }
      ]
    },
    {
      "cell_type": "code",
      "source": [
        "model = load_model('model.keras')"
      ],
      "metadata": {
        "id": "ik9O9d_DnuBg"
      },
      "execution_count": 4,
      "outputs": []
    },
    {
      "cell_type": "code",
      "source": [
        "M = TEM(\"test_data/\")\n",
        "M._load_dataset_ram()\n",
        "\n",
        "t0 = time.time()\n",
        "for itr in range(5000):\n",
        "  '''this for loop mimics the continous viewing mode on TEM'''\n",
        "\n",
        "  data = M.dataset[np.mod(itr,len(M.dataset))]\n",
        "  t = time.time()\n",
        "  data_np = data['Channel_000'].compute()\n",
        "  data_np = cv2.resize(data_np,(2048,2048))\n",
        "\n",
        "  '''make predictions'''\n",
        "  data_sub = split_image(data_np)\n",
        "  predictions = model.predict(data_sub, batch_size=1, verbose=0)\n",
        "  data_pred = stitch_images(predictions)\n",
        "\n",
        "  '''do some statistic'''\n",
        "  fake_stats, bin = np.histogram(np.random.normal(loc=0, scale=1, size=1000), bins=100)\n",
        "  bin = (bin[:-1]+bin[1:])/2\n",
        "\n",
        "  '''plotting'''\n",
        "  f,axs = plt.subplots(2,2, figsize = (10,10))\n",
        "  axs[0][0].imshow(data_np,cmap = 'gray')\n",
        "  axs[0][0].set_title('Original')\n",
        "  axs[0][0].text(1580,100,'FPS: ' + '{:.2f}'.format(1/(t-t0)))\n",
        "\n",
        "  axs[0][1].imshow(data_pred,cmap = 'gray')\n",
        "  axs[0][1].set_title('U-Net prediction')\n",
        "\n",
        "  axs[1][0].imshow(data_np,cmap = 'gray')\n",
        "  axs[1][0].plot([200,1800,1000,200],[1800,1800,60,1800], linewidth = 2)\n",
        "  axs[1][0].set_title('Contours (fake)')\n",
        "\n",
        "  axs[1][1].bar(bin, fake_stats)\n",
        "  axs[1][1].set_title('Statistics (fake)')\n",
        "  t0 = time.time()\n",
        "  plt.show()\n",
        "  time.sleep(0.1)\n",
        "  clear_output(wait=True)"
      ],
      "metadata": {
        "colab": {
          "base_uri": "https://localhost:8080/",
          "height": 332
        },
        "id": "KGLqMrVhEOxx",
        "outputId": "3e06c6e0-7ca4-42f0-912a-a4b6319574b0"
      },
      "execution_count": 20,
      "outputs": [
        {
          "output_type": "error",
          "ename": "KeyboardInterrupt",
          "evalue": "",
          "traceback": [
            "\u001b[0;31m---------------------------------------------------------------------------\u001b[0m",
            "\u001b[0;31mKeyboardInterrupt\u001b[0m                         Traceback (most recent call last)",
            "\u001b[0;32m<ipython-input-20-8589f9edeacc>\u001b[0m in \u001b[0;36m<cell line: 5>\u001b[0;34m()\u001b[0m\n\u001b[1;32m     13\u001b[0m   \u001b[0;34m'''make predictions'''\u001b[0m\u001b[0;34m\u001b[0m\u001b[0;34m\u001b[0m\u001b[0m\n\u001b[1;32m     14\u001b[0m   \u001b[0mdata_sub\u001b[0m \u001b[0;34m=\u001b[0m \u001b[0msplit_image\u001b[0m\u001b[0;34m(\u001b[0m\u001b[0mdata_np\u001b[0m\u001b[0;34m)\u001b[0m\u001b[0;34m\u001b[0m\u001b[0;34m\u001b[0m\u001b[0m\n\u001b[0;32m---> 15\u001b[0;31m   \u001b[0mpredictions\u001b[0m \u001b[0;34m=\u001b[0m \u001b[0mmodel\u001b[0m\u001b[0;34m.\u001b[0m\u001b[0mpredict\u001b[0m\u001b[0;34m(\u001b[0m\u001b[0mdata_sub\u001b[0m\u001b[0;34m,\u001b[0m \u001b[0mbatch_size\u001b[0m\u001b[0;34m=\u001b[0m\u001b[0;36m1\u001b[0m\u001b[0;34m,\u001b[0m \u001b[0mverbose\u001b[0m\u001b[0;34m=\u001b[0m\u001b[0;36m0\u001b[0m\u001b[0;34m)\u001b[0m\u001b[0;34m\u001b[0m\u001b[0;34m\u001b[0m\u001b[0m\n\u001b[0m\u001b[1;32m     16\u001b[0m   \u001b[0mdata_pred\u001b[0m \u001b[0;34m=\u001b[0m \u001b[0mstitch_images\u001b[0m\u001b[0;34m(\u001b[0m\u001b[0mpredictions\u001b[0m\u001b[0;34m)\u001b[0m\u001b[0;34m\u001b[0m\u001b[0;34m\u001b[0m\u001b[0m\n\u001b[1;32m     17\u001b[0m \u001b[0;34m\u001b[0m\u001b[0m\n",
            "\u001b[0;32m/usr/local/lib/python3.10/dist-packages/keras/src/utils/traceback_utils.py\u001b[0m in \u001b[0;36merror_handler\u001b[0;34m(*args, **kwargs)\u001b[0m\n\u001b[1;32m    115\u001b[0m         \u001b[0mfiltered_tb\u001b[0m \u001b[0;34m=\u001b[0m \u001b[0;32mNone\u001b[0m\u001b[0;34m\u001b[0m\u001b[0;34m\u001b[0m\u001b[0m\n\u001b[1;32m    116\u001b[0m         \u001b[0;32mtry\u001b[0m\u001b[0;34m:\u001b[0m\u001b[0;34m\u001b[0m\u001b[0;34m\u001b[0m\u001b[0m\n\u001b[0;32m--> 117\u001b[0;31m             \u001b[0;32mreturn\u001b[0m \u001b[0mfn\u001b[0m\u001b[0;34m(\u001b[0m\u001b[0;34m*\u001b[0m\u001b[0margs\u001b[0m\u001b[0;34m,\u001b[0m \u001b[0;34m**\u001b[0m\u001b[0mkwargs\u001b[0m\u001b[0;34m)\u001b[0m\u001b[0;34m\u001b[0m\u001b[0;34m\u001b[0m\u001b[0m\n\u001b[0m\u001b[1;32m    118\u001b[0m         \u001b[0;32mexcept\u001b[0m \u001b[0mException\u001b[0m \u001b[0;32mas\u001b[0m \u001b[0me\u001b[0m\u001b[0;34m:\u001b[0m\u001b[0;34m\u001b[0m\u001b[0;34m\u001b[0m\u001b[0m\n\u001b[1;32m    119\u001b[0m             \u001b[0mfiltered_tb\u001b[0m \u001b[0;34m=\u001b[0m \u001b[0m_process_traceback_frames\u001b[0m\u001b[0;34m(\u001b[0m\u001b[0me\u001b[0m\u001b[0;34m.\u001b[0m\u001b[0m__traceback__\u001b[0m\u001b[0;34m)\u001b[0m\u001b[0;34m\u001b[0m\u001b[0;34m\u001b[0m\u001b[0m\n",
            "\u001b[0;31mKeyboardInterrupt\u001b[0m: "
          ]
        }
      ]
    }
  ],
  "metadata": {
    "colab": {
      "provenance": [],
      "gpuType": "T4"
    },
    "kernelspec": {
      "display_name": "Python 3",
      "name": "python3"
    },
    "language_info": {
      "name": "python"
    },
    "accelerator": "GPU"
  },
  "nbformat": 4,
  "nbformat_minor": 0
}